{
 "cells": [
  {
   "cell_type": "code",
   "execution_count": null,
   "metadata": {},
   "outputs": [],
   "source": [
    "import pandas as pd\n",
    "import main\n",
    "from conversion import points_to_smooth_lines\n",
    "from conversion_v2 import points_to_smooth_lines_fast\n",
    "import plotly.graph_objects as go\n",
    "from buffer import identify_matching"
   ]
  },
  {
   "cell_type": "markdown",
   "metadata": {},
   "source": [
    "These are the imports required for running this algorithm, and creating the map. If a user does not want to create the map, then only the pandas and main modules are needed. The user also does not have to use any of these conversion modules if they have their own."
   ]
  },
  {
   "cell_type": "code",
   "execution_count": null,
   "metadata": {},
   "outputs": [],
   "source": [
    "# ASTD Dataset after original conditioning \n",
    "\n",
    "df_astd_original = pd.read_csv('/Users/willponczak/Desktop/QC2025/data/grouped-months/all_months_1day.csv', sep=',')\n",
    "\n",
    "# Running orig df through algorithm\n",
    "track_table = main.build_track_table(df_astd_original)"
   ]
  },
  {
   "cell_type": "markdown",
   "metadata": {},
   "source": [
    "This is the preprocessed astd DataFrame. It then gets run through the main algorithm build_track_table. buiild_track_table outputs a table with the month, segment_id and track_id"
   ]
  },
  {
   "cell_type": "code",
   "execution_count": null,
   "metadata": {},
   "outputs": [],
   "source": [
    "df_jul_astd = pd.read_csv('/Users/willponczak/Desktop/QC2025/data/astd/complete_data/2019/ASTD_area_level3_201907.csv', sep=';')\n",
    "df_aug_astd = pd.read_csv('/Users/willponczak/Desktop/QC2025/data/astd/complete_data/2019/ASTD_area_level3_201908.csv', sep=';')\n",
    "df_sep_astd = pd.read_csv('/Users/willponczak/Desktop/QC2025/data/astd/complete_data/2019/ASTD_area_level3_201909.csv', sep=';')\n",
    "df_oct_astd = pd.read_csv('/Users/willponczak/Desktop/QC2025/data/astd/complete_data/2019/ASTD_area_level3_201910.csv', sep=';')\n",
    "df_nov_astd = pd.read_csv('/Users/willponczak/Desktop/QC2025/data/astd/complete_data/2019/ASTD_area_level3_201911.csv', sep=';')\n",
    "df_dec_astd = pd.read_csv('/Users/willponczak/Desktop/QC2025/data/astd/complete_data/2019/ASTD_area_level3_201912.csv', sep=';')"
   ]
  },
  {
   "cell_type": "markdown",
   "metadata": {},
   "source": [
    "These are the original ASTD datasets. They have not been preprocessed. These are required to find the ships for creating a map."
   ]
  },
  {
   "cell_type": "code",
   "execution_count": null,
   "metadata": {},
   "outputs": [],
   "source": [
    "# GFW DATA\n",
    "\n",
    "import pandas as pd\n",
    "import glob\n",
    "\n",
    "def load_month_data(year, month, base_path):\n",
    "    pattern = f\"{base_path}/mmsi-daily-csvs-10-v3-{year}-{month:02d}-*.csv\"\n",
    "    files = glob.glob(pattern)\n",
    "    if files:\n",
    "        return pd.concat([pd.read_csv(file) for file in files], ignore_index=True)\n",
    "    else:\n",
    "        print(f\"No files found for {year}-{month:02d}\")\n",
    "        return pd.DataFrame()\n",
    "\n",
    "# Load different months\n",
    "base_path = \"/Users/willponczak/Desktop/QC2025/data/gfw/ais-apparent-fishing-effort/mmsi-daily-csvs-10-v3-2019\"\n",
    "\n",
    "df_jan_gfw = load_month_data(2019, 1, base_path)  \n",
    "df_feb_gfw = load_month_data(2019, 2, base_path)   \n",
    "df_mar_gfw = load_month_data(2019, 3, base_path)  \n",
    "df_apr_gfw = load_month_data(2019, 4, base_path)  \n",
    "df_may_gfw = load_month_data(2019, 5, base_path)  \n",
    "df_jun_gfw = load_month_data(2019, 6, base_path)  \n",
    "df_jul_gfw = load_month_data(2019, 7, base_path)  \n",
    "df_aug_gfw = load_month_data(2019, 8, base_path)  \n",
    "df_sep_gfw = load_month_data(2019, 9, base_path)  \n",
    "df_oct_gfw = load_month_data(2019, 10, base_path)  \n",
    "df_nov_gfw = load_month_data(2019, 11, base_path)  \n",
    "df_dec_gfw = load_month_data(2019, 12, base_path)  "
   ]
  },
  {
   "cell_type": "markdown",
   "metadata": {},
   "source": [
    "This is the GFW data. This was only apart of our verification process, so a user would not need to import these datasets unless they wanted to."
   ]
  },
  {
   "cell_type": "code",
   "execution_count": null,
   "metadata": {},
   "outputs": [],
   "source": [
    "track_info = track_table[track_table['track_id'] == 'track_3566']\n",
    "track_info"
   ]
  },
  {
   "cell_type": "markdown",
   "metadata": {},
   "source": [
    "This is the track being used in the example. track_info becomes a table with only rows containing track_3566 in the track_id column. I then print it out to see which months and segment_id I need to get from the ASTD data."
   ]
  },
  {
   "cell_type": "code",
   "execution_count": null,
   "metadata": {},
   "outputs": [],
   "source": [
    "# Filter each month for the specific shipid\n",
    "\n",
    "df_jul_filtered_astd_3566 = df_jul_astd[df_jul_astd['shipid'] == 403].dropna()\n",
    "df_aug_filtered_astd_3566 = df_aug_astd[df_aug_astd['shipid'] == 626].dropna()\n",
    "df_sep_filtered_astd_3566 = df_sep_astd[df_sep_astd['shipid'] == 742].dropna()\n",
    "df_oct_filtered_astd_3566 = df_oct_astd[df_oct_astd['shipid'] == 229].dropna()\n",
    "df_nov_filtered_astd_3566 = df_nov_astd[df_nov_astd['shipid'] == 216].dropna()\n",
    "df_dec_filtered_astd_3566 = df_dec_astd[df_dec_astd['shipid'] == 193].dropna()\n",
    "\n",
    "print(f\"Jul: {len(df_jul_filtered_astd_3566)}\")\n",
    "print(f\"Aug: {len(df_aug_filtered_astd_3566)}\")\n",
    "print(f\"Sep: {len(df_sep_filtered_astd_3566)}\")\n",
    "print(f\"Oct: {len(df_oct_filtered_astd_3566)}\")\n",
    "print(f\"Nov: {len(df_nov_filtered_astd_3566)}\")\n",
    "print(f\"Dec: {len(df_dec_filtered_astd_3566)}\")\n",
    "\n",
    "\n",
    "\n",
    "# Combine them\n",
    "df_filtered = pd.concat([df_jul_filtered_astd_3566, df_aug_filtered_astd_3566, df_sep_filtered_astd_3566,\n",
    "                               df_oct_filtered_astd_3566, df_nov_filtered_astd_3566, df_dec_filtered_astd_3566], ignore_index=True)"
   ]
  },
  {
   "cell_type": "markdown",
   "metadata": {},
   "source": [
    "In the first part of this, I filter each ASTD dataset so they only contain the specific ship that we want, and I assign it to a new variable. I then print how many rows of data each ship has. This step is not necessary for running the algorithm, or creating the map. It only helps the user get an idea of how much data they are working with. The last part of this cell is concatenating all of the filtered datasets into a single DataFrame that can be used to create a map."
   ]
  },
  {
   "cell_type": "code",
   "execution_count": null,
   "metadata": {},
   "outputs": [],
   "source": [
    "track_3566_gfw = pd.concat([df_jul_gfw, df_aug_gfw, df_sep_gfw, df_oct_gfw, df_nov_gfw, df_dec_gfw])"
   ]
  },
  {
   "cell_type": "markdown",
   "metadata": {},
   "source": [
    "Here, the GFW data for the relating months are also concatenated. This is a must for our verification process, but a user can completely skip this part."
   ]
  },
  {
   "cell_type": "code",
   "execution_count": null,
   "metadata": {},
   "outputs": [],
   "source": [
    "mmsi_list = identify_matching(df_filtered, track_3566_gfw, 1000)"
   ]
  },
  {
   "cell_type": "markdown",
   "metadata": {},
   "source": [
    "This cell runs a function from another file to automatically search for mmsi(s) which match the identified track_id. It uses both the filtered ASTD data, and the GFW data. This step is not necessary to create a map solely based on the ASTD data. It is only required for the verification process."
   ]
  },
  {
   "cell_type": "code",
   "execution_count": null,
   "metadata": {},
   "outputs": [],
   "source": [
    "track_3566_df = track_3566_gfw[track_3566_gfw['mmsi'].isin(mmsi_list)]\n",
    "\n",
    "track_3566_specific = points_to_smooth_lines(track_3566_df)"
   ]
  },
  {
   "cell_type": "markdown",
   "metadata": {},
   "source": [
    "This cell takes all of the potential matching mmsi(s) from the mmsi_list and then runs them through a point-to-lines algorithm so we can visually identify which mmsi is a match. This is not a necessary step for creating a map with only ASTD data. It is only necessary for the verification process."
   ]
  },
  {
   "cell_type": "code",
   "execution_count": null,
   "metadata": {},
   "outputs": [],
   "source": [
    "# Create the map figure\n",
    "fig = go.Figure()\n",
    "\n",
    "# Add tracks from df (precise coordinates)\n",
    "for ship_id in df_filtered['shipid'].unique():\n",
    "    ship_data = df_filtered[df_filtered['shipid'] == ship_id].sort_values('date_time_utc')\n",
    "    fig.add_trace(go.Scattermapbox(\n",
    "        lat=ship_data['latitude'],\n",
    "        lon=ship_data['longitude'],\n",
    "        mode='markers',\n",
    "        name=f'ASTD - {ship_id}',\n",
    "        line=dict(width=2),\n",
    "        customdata=ship_data[[\"date_time_utc\", \"shipid\"]].values,\n",
    "        hovertemplate=\"date: %{customdata[0]} id:%{customdata[1]}\",\n",
    "    ))\n",
    "\n",
    "# Add tracks from df_jan_feb_gfw_specific_mmsi_smooth (grid cells)\n",
    "for mmsi in track_3566_df['mmsi'].unique():\n",
    "    mmsi_data = track_3566_df[track_3566_df['mmsi'] == mmsi].sort_index()\n",
    "    fig.add_trace(go.Scattermapbox(\n",
    "        lat=mmsi_data['cell_ll_lat'],  # or whatever your lat column is\n",
    "        lon=mmsi_data['cell_ll_lon'],  # or whatever your lon column is\n",
    "        mode='lines',\n",
    "        name=f'GFW - {mmsi}',\n",
    "        line=dict(width=2),\n",
    "        customdata=mmsi_data[[\"date\", \"mmsi\"]].values,\n",
    "        hovertemplate=\"date: %{customdata[0]} id:%{customdata[1]}\",\n",
    "    ))\n",
    "\n",
    "# Update layout\n",
    "fig.update_layout(\n",
    "    mapbox_style=\"open-street-map\",\n",
    "    height=600,\n",
    "    margin={\"r\":0,\"t\":0,\"l\":0,\"b\":0},\n",
    "    legend=dict(\n",
    "        x=1,           # Right side (1 = far right, 0 = far left)\n",
    "        y=0.5,           # Bottom (0 = bottom, 1 = top)\n",
    "        xanchor='right',  # Anchor the legend box to its right edge\n",
    "        yanchor='bottom'  # Anchor the legend box to its bottom edge\n",
    "    )\n",
    ")\n",
    "\n",
    "fig.show()"
   ]
  },
  {
   "cell_type": "markdown",
   "metadata": {},
   "source": [
    "This is where the map is created. The first block takes the filtered ASTD data and shows that on the map, which shows a visualization of the ship track identified by the main algorithm. The second block is for GFW data, and is only required for the verification process. A user could completely delete this block of code if they were not using the GFW dataset. The last block is for configuration of the map. This can be edited and played around with by the user."
   ]
  }
 ],
 "metadata": {
  "kernelspec": {
   "display_name": "Python 3",
   "language": "python",
   "name": "python3"
  },
  "language_info": {
   "name": "python",
   "version": "3.12.0"
  }
 },
 "nbformat": 4,
 "nbformat_minor": 2
}
