{
 "cells": [
  {
   "cell_type": "code",
   "execution_count": 1,
   "metadata": {},
   "outputs": [],
   "source": [
    "import requests\n",
    "import pandas as pd\n",
    "import gfwapiclient as gfw\n",
    "import os\n",
    "import asyncio\n",
    "from shapely.geometry import box, mapping"
   ]
  },
  {
   "cell_type": "code",
   "execution_count": 2,
   "metadata": {},
   "outputs": [],
   "source": [
    "access_token = \"eyJhbGciOiJSUzI1NiIsInR5cCI6IkpXVCIsImtpZCI6ImtpZEtleSJ9.eyJkYXRhIjp7Im5hbW\" \\\n",
    "\"UiOiJXaWxsIFBvbmN6YWsiLCJ1c2VySWQiOjQ2NzE1LCJhcHBsaWNhdGlvbk5hbWUiOiJXaWxsIFBvbmN6YWsi\" \\\n",
    "\"LCJpZCI6MjgwNywidHlwZSI6InVzZXItYXBwbGljYXRpb24ifSwiaWF0IjoxNzQ4OTU5MjIwLCJleHAiOjIwN\" \\\n",
    "\"jQzMTkyMjAsImF1ZCI6ImdmdyIsImlzcyI6ImdmdyJ9.i9JoOMrqnRuQks9RwcBJpbohYXvby7UigXgImksE6pD\" \\\n",
    "\"6FVZXuC-2-rZBoPCxNpQTJAtVDtgf5VunVxvs0Eelry88PyLRtzeXqRrE4YjH_wVGPuk4ZrXz5c9a4PnTt8xbglq\" \\\n",
    "\"ohIXha403c37UCDIPeV4Z7y8e3e6WxCWkaiW-5kD0Z-23CIB9ZC7gWh01fL64HqaQruCOIyRD_hRJB1PUdy0t9J\" \\\n",
    "\"dwk56lqcipcjvQVLZXvInzk-twhzIefaWZuLLBbdSOfWtlt6-NBqdaidCQfe6QChoHDa3lFUNMHCcQMOe_geYsj\" \\\n",
    "\"ObvXvuX6R0_4CmWq7E4t6w52_y0SjLKvVTScyz95RBm7xQMjmrFsx4VsHwpLNv9i_DtUKQuVt_OHGA6DwgIdtV0r\" \\\n",
    "\"sOKyPYosH4OLELMNjPuEPi9VC6HR-lagVTMnsGNCofsoOzPlbJNVQkaE2K2hFnD9rWAJF1F1efj9PmPznsahB9Jo\" \\\n",
    "\"km0Mw8lOiU74EkKFtYKIsXam2E2QOs3\""
   ]
  },
  {
   "cell_type": "code",
   "execution_count": 13,
   "metadata": {},
   "outputs": [],
   "source": [
    "gfw_client = gfw.Client(access_token=access_token)"
   ]
  },
  {
   "cell_type": "code",
   "execution_count": null,
   "metadata": {},
   "outputs": [],
   "source": [
    "# DATASET API"
   ]
  },
  {
   "cell_type": "code",
   "execution_count": 14,
   "metadata": {},
   "outputs": [],
   "source": [
    "geometry = {\n",
    "    \"type\": \"Polygon\",\n",
    "    \"coordinates\": [\n",
    "        [\n",
    "            [-180.0, -85.0511287798066],\n",
    "            [-180.0, 0.0],\n",
    "            [0.0, 0.0],\n",
    "            [0.0, -85.0511287798066],\n",
    "            [-180.0, -85.0511287798066],\n",
    "        ]\n",
    "    ],\n",
    "}"
   ]
  },
  {
   "cell_type": "code",
   "execution_count": 15,
   "metadata": {},
   "outputs": [],
   "source": [
    "async def main():\n",
    "   \n",
    "    sar_infrastructure_result = await gfw_client.datasets.get_sar_fixed_infrastructure(\n",
    "        geometry=geometry\n",
    "    )\n",
    "\n",
    "    sar_infrastructure_df = sar_infrastructure_result.df()\n",
    "    print(sar_infrastructure_df.info())\n",
    "    print(sar_infrastructure_df.head())\n",
    "\n"
   ]
  },
  {
   "cell_type": "code",
   "execution_count": 17,
   "metadata": {},
   "outputs": [
    {
     "name": "stdout",
     "output_type": "stream",
     "text": [
      "<class 'pandas.core.frame.DataFrame'>\n",
      "RangeIndex: 1121 entries, 0 to 1120\n",
      "Data columns (total 7 columns):\n",
      " #   Column                Non-Null Count  Dtype              \n",
      "---  ------                --------------  -----              \n",
      " 0   structure_id          1121 non-null   int64              \n",
      " 1   lat                   1121 non-null   float64            \n",
      " 2   lon                   1121 non-null   float64            \n",
      " 3   label                 1121 non-null   object             \n",
      " 4   structure_start_date  1121 non-null   datetime64[ns, UTC]\n",
      " 5   structure_end_date    829 non-null    datetime64[ns, UTC]\n",
      " 6   label_confidence      1121 non-null   object             \n",
      "dtypes: datetime64[ns, UTC](2), float64(2), int64(1), object(2)\n",
      "memory usage: 61.4+ KB\n",
      "None\n",
      "   structure_id       lat        lon    label      structure_start_date  \\\n",
      "0        170796  1.509645 -78.888106  unknown 2021-11-01 00:00:00+00:00   \n",
      "1        254126  1.029763 -79.745796      oil 2017-01-01 00:00:00+00:00   \n",
      "2        360586  1.021449 -79.733240      oil 2017-01-01 00:00:00+00:00   \n",
      "3        237733  1.030971 -79.717878      oil 2017-01-01 00:00:00+00:00   \n",
      "4        450717  1.033458 -79.699540      oil 2017-01-01 00:00:00+00:00   \n",
      "\n",
      "         structure_end_date label_confidence  \n",
      "0 2021-12-01 00:00:00+00:00             high  \n",
      "1                       NaT             high  \n",
      "2                       NaT             high  \n",
      "3                       NaT             high  \n",
      "4                       NaT             high  \n"
     ]
    }
   ],
   "source": [
    "sar_infrastructure_df = await main()"
   ]
  },
  {
   "cell_type": "code",
   "execution_count": null,
   "metadata": {},
   "outputs": [],
   "source": [
    "# VESSELS API"
   ]
  },
  {
   "cell_type": "code",
   "execution_count": 18,
   "metadata": {},
   "outputs": [],
   "source": [
    "vessel_search_result = await gfw_client.vessels.search_vessels(\n",
    "    where=\"ssvid='775998121' AND shipname='DON TITO'\",\n",
    "    datasets=[\"public-global-vessel-identity:latest\"],\n",
    "    includes=[\"MATCH_CRITERIA\", \"OWNERSHIP\"],\n",
    ")"
   ]
  },
  {
   "cell_type": "code",
   "execution_count": 19,
   "metadata": {},
   "outputs": [
    {
     "name": "stdout",
     "output_type": "stream",
     "text": [
      "<class 'pandas.core.frame.DataFrame'>\n",
      "RangeIndex: 2 entries, 0 to 1\n",
      "Data columns (total 8 columns):\n",
      " #   Column                          Non-Null Count  Dtype \n",
      "---  ------                          --------------  ----- \n",
      " 0   dataset                         2 non-null      object\n",
      " 1   registry_info_total_records     2 non-null      int64 \n",
      " 2   registry_info                   2 non-null      object\n",
      " 3   registry_owners                 2 non-null      object\n",
      " 4   registry_public_authorizations  0 non-null      object\n",
      " 5   combined_sources_info           2 non-null      object\n",
      " 6   self_reported_info              2 non-null      object\n",
      " 7   matchCriteria                   2 non-null      object\n",
      "dtypes: int64(1), object(7)\n",
      "memory usage: 260.0+ bytes\n",
      "None\n",
      "                              dataset  registry_info_total_records  \\\n",
      "0  public-global-vessel-identity:v3.0                            0   \n",
      "1  public-global-vessel-identity:v3.0                            0   \n",
      "\n",
      "  registry_info registry_owners registry_public_authorizations  \\\n",
      "0            []              []                           None   \n",
      "1            []              []                           None   \n",
      "\n",
      "                               combined_sources_info  \\\n",
      "0  [{'vessel_id': 'c54923e64-46f3-9338-9dcb-ff097...   \n",
      "1  [{'vessel_id': 'bae8f325c-cf0a-01fe-6d1a-9a275...   \n",
      "\n",
      "                                  self_reported_info  \\\n",
      "0  [{'id': 'c54923e64-46f3-9338-9dcb-ff09724077a3...   \n",
      "1  [{'id': 'bae8f325c-cf0a-01fe-6d1a-9a275588d4ff...   \n",
      "\n",
      "                                       matchCriteria  \n",
      "0  [{'reference': 'c54923e64-46f3-9338-9dcb-ff097...  \n",
      "1  [{'reference': 'bae8f325c-cf0a-01fe-6d1a-9a275...  \n"
     ]
    }
   ],
   "source": [
    "vessel_search_df = vessel_search_result.df()\n",
    "print(vessel_search_df.info())\n",
    "print(vessel_search_df.head())"
   ]
  },
  {
   "cell_type": "code",
   "execution_count": null,
   "metadata": {},
   "outputs": [],
   "source": [
    "# 4WINGS API"
   ]
  },
  {
   "cell_type": "code",
   "execution_count": 23,
   "metadata": {},
   "outputs": [
    {
     "name": "stdout",
     "output_type": "stream",
     "text": [
      "<class 'pandas.core.frame.DataFrame'>\n",
      "RangeIndex: 41916 entries, 0 to 41915\n",
      "Data columns (total 20 columns):\n",
      " #   Column                   Non-Null Count  Dtype  \n",
      "---  ------                   --------------  -----  \n",
      " 0   date                     41916 non-null  object \n",
      " 1   detections               0 non-null      object \n",
      " 2   flag                     0 non-null      object \n",
      " 3   gear_type                41916 non-null  object \n",
      " 4   hours                    41916 non-null  float64\n",
      " 5   vessel_ids               41916 non-null  int64  \n",
      " 6   vessel_id                0 non-null      object \n",
      " 7   vessel_type              0 non-null      object \n",
      " 8   entry_timestamp          0 non-null      object \n",
      " 9   exit_timestamp           0 non-null      object \n",
      " 10  first_transmission_date  0 non-null      object \n",
      " 11  last_transmission_date   0 non-null      object \n",
      " 12  imo                      0 non-null      object \n",
      " 13  mmsi                     0 non-null      object \n",
      " 14  call_sign                0 non-null      object \n",
      " 15  dataset                  0 non-null      object \n",
      " 16  report_dataset           41916 non-null  object \n",
      " 17  ship_name                0 non-null      object \n",
      " 18  lat                      41916 non-null  float64\n",
      " 19  lon                      41916 non-null  float64\n",
      "dtypes: float64(3), int64(1), object(16)\n",
      "memory usage: 6.4+ MB\n",
      "None\n",
      "      date detections  flag gear_type      hours  vessel_ids vessel_id  \\\n",
      "0  2022-01       None  None  trawlers   2.848333           1      None   \n",
      "1  2022-03       None  None   fishing   1.305710           1      None   \n",
      "2  2022-02       None  None  trawlers  20.537500          13      None   \n",
      "3  2022-02       None  None  trawlers   5.952222           3      None   \n",
      "4  2022-01       None  None  trawlers   1.951944           1      None   \n",
      "\n",
      "  vessel_type entry_timestamp exit_timestamp first_transmission_date  \\\n",
      "0        None            None           None                    None   \n",
      "1        None            None           None                    None   \n",
      "2        None            None           None                    None   \n",
      "3        None            None           None                    None   \n",
      "4        None            None           None                    None   \n",
      "\n",
      "  last_transmission_date   imo  mmsi call_sign dataset  \\\n",
      "0                   None  None  None      None    None   \n",
      "1                   None  None  None      None    None   \n",
      "2                   None  None  None      None    None   \n",
      "3                   None  None  None      None    None   \n",
      "4                   None  None  None      None    None   \n",
      "\n",
      "                      report_dataset ship_name   lat    lon  \n",
      "0  public-global-fishing-effort:v3.0      None  58.5  149.2  \n",
      "1  public-global-fishing-effort:v3.0      None  55.6  153.8  \n",
      "2  public-global-fishing-effort:v3.0      None  54.9  152.7  \n",
      "3  public-global-fishing-effort:v3.0      None  56.1  144.4  \n",
      "4  public-global-fishing-effort:v3.0      None  51.7  154.1  \n"
     ]
    }
   ],
   "source": [
    "async def wings_main():\n",
    "    report_result = await gfw_client.fourwings.create_report(\n",
    "        spatial_resolution=\"LOW\",\n",
    "        temporal_resolution=\"MONTHLY\",\n",
    "        group_by=\"GEARTYPE\",\n",
    "        datasets=[\"public-global-fishing-effort:latest\"],\n",
    "        start_date=\"2022-01-01\",\n",
    "        end_date=\"2022-05-01\",\n",
    "        region={\n",
    "            \"dataset\": \"public-eez-areas\",\n",
    "            \"id\": \"5690\",\n",
    "        },\n",
    "    )\n",
    "    report_df = report_result.df()\n",
    "    print(report_df.info())\n",
    "    print(report_df.head(5))\n",
    "    return report_df\n",
    "\n",
    "report_df = await wings_main()\n"
   ]
  }
 ],
 "metadata": {
  "kernelspec": {
   "display_name": "Python 3",
   "language": "python",
   "name": "python3"
  },
  "language_info": {
   "codemirror_mode": {
    "name": "ipython",
    "version": 3
   },
   "file_extension": ".py",
   "mimetype": "text/x-python",
   "name": "python",
   "nbconvert_exporter": "python",
   "pygments_lexer": "ipython3",
   "version": "3.12.0"
  }
 },
 "nbformat": 4,
 "nbformat_minor": 2
}
