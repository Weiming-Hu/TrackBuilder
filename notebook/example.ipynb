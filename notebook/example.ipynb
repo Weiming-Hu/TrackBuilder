{
 "cells": [
  {
   "cell_type": "code",
   "execution_count": 2,
   "id": "79567194-46e3-41bf-b83a-4b4321b21bd8",
   "metadata": {},
   "outputs": [],
   "source": [
    "from track_builder import main"
   ]
  },
  {
   "cell_type": "code",
   "execution_count": 3,
   "id": "2e5eb9e6-16be-4e48-8aa7-841810d89f5f",
   "metadata": {},
   "outputs": [
    {
     "data": {
      "text/plain": [
       "'Hello, World!'"
      ]
     },
     "execution_count": 3,
     "metadata": {},
     "output_type": "execute_result"
    }
   ],
   "source": [
    "main.hello_world()"
   ]
  }
 ],
 "metadata": {
  "kernelspec": {
   "display_name": "Python 3 (ipykernel)",
   "language": "python",
   "name": "python3"
  },
  "language_info": {
   "codemirror_mode": {
    "name": "ipython",
    "version": 3
   },
   "file_extension": ".py",
   "mimetype": "text/x-python",
   "name": "python",
   "nbconvert_exporter": "python",
   "pygments_lexer": "ipython3",
   "version": "3.12.0"
  }
 },
 "nbformat": 4,
 "nbformat_minor": 5
}
