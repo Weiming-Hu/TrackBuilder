{
 "cells": [
  {
   "cell_type": "code",
   "execution_count": 1,
   "metadata": {},
   "outputs": [],
   "source": [
    "import pandas as pd"
   ]
  },
  {
   "cell_type": "code",
   "execution_count": null,
   "metadata": {},
   "outputs": [],
   "source": []
  },
  {
   "cell_type": "code",
   "execution_count": null,
   "metadata": {},
   "outputs": [],
   "source": [
    "# GROUPING EVERY 2 CONSECUTIVE MONTHS TOGETHER\n",
    "\n",
    "def data_prep(\n",
    "        df_prev: pd.DataFrame,\n",
    "        df_next: pd.DataFrame,\n",
    "        n_days_prev_month: int,\n",
    "        n_days_next_month: int\n",
    "):\n",
    "    # Convert the date_time_utc column from string to datetime object\n",
    "    df_prev['date_time_utc'] = pd.to_datetime(df_prev['date_time_utc'])\n",
    "    df_next['date_time_utc'] = pd.to_datetime(df_next['date_time_utc'])\n",
    "\n",
    "    # Extract day from datetime and get last/first unique days\n",
    "    last_days = sorted(df_prev['date_time_utc'].dt.date.unique())[-n_days_prev_month:]\n",
    "    first_days = sorted(df_next['date_time_utc'].dt.date.unique())[:n_days_next_month]\n",
    "\n",
    "    # Filter rows where date matches the selected days\n",
    "    df_last_days = df_prev[df_prev['date_time_utc'].dt.date.isin(last_days)]\n",
    "    df_first_days = df_next[df_next['date_time_utc'].dt.date.isin(first_days)]\n",
    "\n",
    "    # Combine the rows\n",
    "    df_output = pd.concat([df_last_days, df_first_days])\n",
    "\n",
    "    return df_output"
   ]
  },
  {
   "cell_type": "code",
   "execution_count": null,
   "metadata": {},
   "outputs": [],
   "source": [
    "# GROUP ALL 2 MONTH BLOCKS TOGETHER"
   ]
  },
  {
   "cell_type": "code",
   "execution_count": null,
   "metadata": {},
   "outputs": [],
   "source": [
    "dfs_processed = []\n",
    "\n",
    "for i in range(len(file_names) - 1):\n",
    "    df_prev = pd.read_csv(file_names[i], sep=';')\n",
    "    df_next = pd.read_csv(file_names[i+1], sep=';')\n",
    "\n",
    "    # You need to decide how many days to take from each month; here as example, use 3 days each\n",
    "    processed_df = data_prep(df_prev, df_next, n_days_prev_month=3, n_days_next_month=3)\n",
    "    dfs_processed.append(processed_df)"
   ]
  }
 ],
 "metadata": {
  "kernelspec": {
   "display_name": "Python 3",
   "language": "python",
   "name": "python3"
  },
  "language_info": {
   "codemirror_mode": {
    "name": "ipython",
    "version": 3
   },
   "file_extension": ".py",
   "mimetype": "text/x-python",
   "name": "python",
   "nbconvert_exporter": "python",
   "pygments_lexer": "ipython3",
   "version": "3.12.0"
  }
 },
 "nbformat": 4,
 "nbformat_minor": 2
}
