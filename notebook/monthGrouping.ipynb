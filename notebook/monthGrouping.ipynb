{
 "cells": [
  {
   "cell_type": "code",
   "execution_count": 11,
   "metadata": {},
   "outputs": [],
   "source": [
    "import pandas as pd\n",
    "from datetime import datetime\n",
    "from dateutil import parser\n"
   ]
  },
  {
   "cell_type": "code",
   "execution_count": 2,
   "metadata": {},
   "outputs": [
    {
     "name": "stderr",
     "output_type": "stream",
     "text": [
      "/var/folders/9d/bphw52wd7fngbyw4fdd0280h0000gp/T/ipykernel_55614/2802618179.py:1: DtypeWarning: Columns (0,3,5,18) have mixed types. Specify dtype option on import or set low_memory=False.\n",
      "  df_jan = pd.read_csv('/Users/willponczak/Desktop/QC2025/data/astd/complete_data/2019/ASTD_area_level3_201901.csv', sep=';', on_bad_lines='skip', encoding='latin')\n",
      "/var/folders/9d/bphw52wd7fngbyw4fdd0280h0000gp/T/ipykernel_55614/2802618179.py:2: DtypeWarning: Columns (3,5) have mixed types. Specify dtype option on import or set low_memory=False.\n",
      "  df_feb = pd.read_csv('/Users/willponczak/Desktop/QC2025/data/astd/complete_data/2019/ASTD_area_level3_201902_V2.csv', sep=';', on_bad_lines='skip')\n",
      "/var/folders/9d/bphw52wd7fngbyw4fdd0280h0000gp/T/ipykernel_55614/2802618179.py:3: DtypeWarning: Columns (3,5) have mixed types. Specify dtype option on import or set low_memory=False.\n",
      "  df_mar = pd.read_csv('/Users/willponczak/Desktop/QC2025/data/astd/complete_data/2019/ASTD_area_level3_201903-V2.csv', sep=';', on_bad_lines='skip', encoding='latin')\n",
      "/var/folders/9d/bphw52wd7fngbyw4fdd0280h0000gp/T/ipykernel_55614/2802618179.py:4: DtypeWarning: Columns (3,5) have mixed types. Specify dtype option on import or set low_memory=False.\n",
      "  df_apr = pd.read_csv('/Users/willponczak/Desktop/QC2025/data/astd/complete_data/2019/ASTD_area_level3_201904.csv', sep=';', on_bad_lines='skip')\n",
      "/var/folders/9d/bphw52wd7fngbyw4fdd0280h0000gp/T/ipykernel_55614/2802618179.py:5: DtypeWarning: Columns (3,5) have mixed types. Specify dtype option on import or set low_memory=False.\n",
      "  df_may = pd.read_csv('/Users/willponczak/Desktop/QC2025/data/astd/complete_data/2019/ASTD_area_level3_201905.csv', sep=';', on_bad_lines='skip')\n",
      "/var/folders/9d/bphw52wd7fngbyw4fdd0280h0000gp/T/ipykernel_55614/2802618179.py:6: DtypeWarning: Columns (3,5) have mixed types. Specify dtype option on import or set low_memory=False.\n",
      "  df_jun = pd.read_csv('/Users/willponczak/Desktop/QC2025/data/astd/complete_data/2019/ASTD_area_level3_201906.csv', sep=';', on_bad_lines='skip')\n",
      "/var/folders/9d/bphw52wd7fngbyw4fdd0280h0000gp/T/ipykernel_55614/2802618179.py:7: DtypeWarning: Columns (3,5) have mixed types. Specify dtype option on import or set low_memory=False.\n",
      "  df_jul = pd.read_csv('/Users/willponczak/Desktop/QC2025/data/astd/complete_data/2019/ASTD_area_level3_201907-V2.csv', sep=';', on_bad_lines='skip')\n",
      "/var/folders/9d/bphw52wd7fngbyw4fdd0280h0000gp/T/ipykernel_55614/2802618179.py:8: DtypeWarning: Columns (3,5) have mixed types. Specify dtype option on import or set low_memory=False.\n",
      "  df_aug = pd.read_csv('/Users/willponczak/Desktop/QC2025/data/astd/complete_data/2019/ASTD_area_level3_201908.csv', sep=';', on_bad_lines='skip')\n",
      "/var/folders/9d/bphw52wd7fngbyw4fdd0280h0000gp/T/ipykernel_55614/2802618179.py:9: DtypeWarning: Columns (3,5) have mixed types. Specify dtype option on import or set low_memory=False.\n",
      "  df_sep = pd.read_csv('/Users/willponczak/Desktop/QC2025/data/astd/complete_data/2019/ASTD_area_level3_201909.csv', sep=';', on_bad_lines='skip')\n",
      "/var/folders/9d/bphw52wd7fngbyw4fdd0280h0000gp/T/ipykernel_55614/2802618179.py:10: DtypeWarning: Columns (3,5) have mixed types. Specify dtype option on import or set low_memory=False.\n",
      "  df_oct = pd.read_csv('/Users/willponczak/Desktop/QC2025/data/astd/complete_data/2019/ASTD_area_level3_201910.csv', sep=';', on_bad_lines='skip')\n",
      "/var/folders/9d/bphw52wd7fngbyw4fdd0280h0000gp/T/ipykernel_55614/2802618179.py:11: DtypeWarning: Columns (3,5) have mixed types. Specify dtype option on import or set low_memory=False.\n",
      "  df_nov = pd.read_csv('/Users/willponczak/Desktop/QC2025/data/astd/complete_data/2019/ASTD_area_level3_201911.csv', sep=';', on_bad_lines='skip')\n",
      "/var/folders/9d/bphw52wd7fngbyw4fdd0280h0000gp/T/ipykernel_55614/2802618179.py:12: DtypeWarning: Columns (3,5) have mixed types. Specify dtype option on import or set low_memory=False.\n",
      "  df_dec = pd.read_csv('/Users/willponczak/Desktop/QC2025/data/astd/complete_data/2019/ASTD_area_level3_201912.csv', sep=';', on_bad_lines='skip')\n"
     ]
    }
   ],
   "source": [
    "df_jan = pd.read_csv('/Users/willponczak/Desktop/QC2025/data/astd/complete_data/2019/ASTD_area_level3_201901.csv', sep=';', on_bad_lines='skip', encoding='latin')\n",
    "df_feb = pd.read_csv('/Users/willponczak/Desktop/QC2025/data/astd/complete_data/2019/ASTD_area_level3_201902_V2.csv', sep=';', on_bad_lines='skip')\n",
    "df_mar = pd.read_csv('/Users/willponczak/Desktop/QC2025/data/astd/complete_data/2019/ASTD_area_level3_201903-V2.csv', sep=';', on_bad_lines='skip', encoding='latin')\n",
    "df_apr = pd.read_csv('/Users/willponczak/Desktop/QC2025/data/astd/complete_data/2019/ASTD_area_level3_201904.csv', sep=';', on_bad_lines='skip')\n",
    "df_may = pd.read_csv('/Users/willponczak/Desktop/QC2025/data/astd/complete_data/2019/ASTD_area_level3_201905.csv', sep=';', on_bad_lines='skip')\n",
    "df_jun = pd.read_csv('/Users/willponczak/Desktop/QC2025/data/astd/complete_data/2019/ASTD_area_level3_201906.csv', sep=';', on_bad_lines='skip')\n",
    "df_jul = pd.read_csv('/Users/willponczak/Desktop/QC2025/data/astd/complete_data/2019/ASTD_area_level3_201907-V2.csv', sep=';', on_bad_lines='skip')\n",
    "df_aug = pd.read_csv('/Users/willponczak/Desktop/QC2025/data/astd/complete_data/2019/ASTD_area_level3_201908.csv', sep=';', on_bad_lines='skip')\n",
    "df_sep = pd.read_csv('/Users/willponczak/Desktop/QC2025/data/astd/complete_data/2019/ASTD_area_level3_201909.csv', sep=';', on_bad_lines='skip')\n",
    "df_oct = pd.read_csv('/Users/willponczak/Desktop/QC2025/data/astd/complete_data/2019/ASTD_area_level3_201910.csv', sep=';', on_bad_lines='skip')\n",
    "df_nov = pd.read_csv('/Users/willponczak/Desktop/QC2025/data/astd/complete_data/2019/ASTD_area_level3_201911.csv', sep=';', on_bad_lines='skip')\n",
    "df_dec = pd.read_csv('/Users/willponczak/Desktop/QC2025/data/astd/complete_data/2019/ASTD_area_level3_201912.csv', sep=';', on_bad_lines='skip')"
   ]
  },
  {
   "cell_type": "code",
   "execution_count": 3,
   "metadata": {},
   "outputs": [
    {
     "data": {
      "text/plain": [
       "Index(['shipid', 'date_time_utc', 'flagname', 'iceclass', 'astd_cat',\n",
       "       'sizegroup_gt', 'fuelquality', 'fuelcons', 'co', 'co2', 'so2', 'pm',\n",
       "       'nox', 'n2o', 'nmvoc', 'ch4', 'blackcarbon', 'organiccarbon',\n",
       "       'oilbilgewater', 'blackwater', 'greywater', 'garbage', 'dist_nextpoint',\n",
       "       'sec_nextpoint', 'longitude', 'latitude'],\n",
       "      dtype='object')"
      ]
     },
     "execution_count": 3,
     "metadata": {},
     "output_type": "execute_result"
    }
   ],
   "source": [
    "df_jan.columns"
   ]
  },
  {
   "cell_type": "code",
   "execution_count": null,
   "metadata": {},
   "outputs": [
    {
     "data": {
      "text/plain": [
       "0    2019-01-22 19:34:01+00:00\n",
       "1    2019-01-22 23:30:01+00:00\n",
       "2    2019-01-22 00:12:21+00:00\n",
       "3    2019-01-22 21:35:11+00:00\n",
       "4    2019-01-22 10:10:12+00:00\n",
       "5    2019-01-22 14:01:21+00:00\n",
       "6    2019-01-22 22:46:30+00:00\n",
       "7    2019-01-22 10:34:31+00:00\n",
       "8    2019-01-22 22:53:30+00:00\n",
       "9    2019-01-22 06:38:31+00:00\n",
       "10   2019-01-22 20:22:21+00:00\n",
       "11   2019-01-22 12:12:00+00:00\n",
       "12   2019-01-22 12:24:12+00:00\n",
       "13   2019-01-22 02:07:53+00:00\n",
       "14   2019-01-22 12:30:22+00:00\n",
       "15   2019-01-22 15:44:11+00:00\n",
       "16   2019-01-22 21:10:30+00:00\n",
       "17   2019-01-22 16:14:31+00:00\n",
       "18   2019-01-22 00:30:52+00:00\n",
       "19   2019-01-22 22:29:22+00:00\n",
       "Name: date_time_utc, dtype: datetime64[ns, UTC]"
      ]
     },
     "execution_count": 3,
     "metadata": {},
     "output_type": "execute_result"
    }
   ],
   "source": [
    "#########################\n",
    "# JAN CONDITIONING\n",
    "#########################\n",
    "\n",
    "df_jan['date_time_utc'].head(20)"
   ]
  },
  {
   "cell_type": "code",
   "execution_count": 4,
   "metadata": {},
   "outputs": [],
   "source": [
    "df_jan['date_time_utc'] = pd.to_datetime(df_jan['date_time_utc'], utc=True)\n",
    "df_jan['date'] = df_jan['date_time_utc'].dt.date"
   ]
  },
  {
   "cell_type": "code",
   "execution_count": 5,
   "metadata": {},
   "outputs": [
    {
     "data": {
      "text/plain": [
       "(10741729, 27)"
      ]
     },
     "execution_count": 5,
     "metadata": {},
     "output_type": "execute_result"
    }
   ],
   "source": [
    "df_jan.shape"
   ]
  },
  {
   "cell_type": "code",
   "execution_count": 15,
   "metadata": {},
   "outputs": [],
   "source": [
    "df_jan_firstDays = df_jan[(df_jan['date'] == datetime(2019, 1, 1).date())]\n",
    "df_jan_lastDays = df_jan[(df_jan['date'] == datetime(2019, 1, 31).date())]"
   ]
  },
  {
   "cell_type": "code",
   "execution_count": 16,
   "metadata": {},
   "outputs": [
    {
     "data": {
      "text/plain": [
       "(173730, 27)"
      ]
     },
     "execution_count": 16,
     "metadata": {},
     "output_type": "execute_result"
    }
   ],
   "source": [
    "df_jan_firstDays.shape"
   ]
  },
  {
   "cell_type": "code",
   "execution_count": 17,
   "metadata": {},
   "outputs": [
    {
     "data": {
      "text/plain": [
       "(613794, 27)"
      ]
     },
     "execution_count": 17,
     "metadata": {},
     "output_type": "execute_result"
    }
   ],
   "source": [
    "df_jan_lastDays.shape\n"
   ]
  },
  {
   "cell_type": "code",
   "execution_count": 12,
   "metadata": {},
   "outputs": [],
   "source": [
    "######################\n",
    "# FEB CONDITIONING\n",
    "######################"
   ]
  },
  {
   "cell_type": "code",
   "execution_count": 19,
   "metadata": {},
   "outputs": [],
   "source": [
    "df_feb['date_time_utc'] = pd.to_datetime(df_feb['date_time_utc'], utc=True)\n",
    "df_feb['date'] = df_feb['date_time_utc'].dt.date"
   ]
  },
  {
   "cell_type": "code",
   "execution_count": 22,
   "metadata": {},
   "outputs": [],
   "source": [
    "df_feb_firstDays = df_feb[(df_feb['date'] == datetime(2019, 2, 1).date())]\n",
    "df_feb_lastDays = df_feb[(df_feb['date'] == datetime(2019, 2, 28).date())]"
   ]
  },
  {
   "cell_type": "code",
   "execution_count": 23,
   "metadata": {},
   "outputs": [
    {
     "data": {
      "text/plain": [
       "(619641, 27)"
      ]
     },
     "execution_count": 23,
     "metadata": {},
     "output_type": "execute_result"
    }
   ],
   "source": [
    "df_feb_firstDays.shape"
   ]
  },
  {
   "cell_type": "code",
   "execution_count": 17,
   "metadata": {},
   "outputs": [],
   "source": [
    "########################\n",
    "# MARCH CONDITIONING\n",
    "########################\n"
   ]
  },
  {
   "cell_type": "code",
   "execution_count": 27,
   "metadata": {},
   "outputs": [],
   "source": [
    "df_mar['date_time_utc'] = pd.to_datetime(df_mar['date_time_utc'], utc=True)\n",
    "df_mar['date'] = df_mar['date_time_utc'].dt.date"
   ]
  },
  {
   "cell_type": "code",
   "execution_count": 32,
   "metadata": {},
   "outputs": [],
   "source": [
    "df_mar_firstDay = df_mar[(df_mar['date'] == datetime(2019, 3, 1).date())]\n",
    "df_mar_lastDay = df_mar[(df_mar['date'] == datetime(2019, 3, 31).date())]"
   ]
  },
  {
   "cell_type": "code",
   "execution_count": 33,
   "metadata": {},
   "outputs": [
    {
     "data": {
      "text/plain": [
       "(592845, 27)"
      ]
     },
     "execution_count": 33,
     "metadata": {},
     "output_type": "execute_result"
    }
   ],
   "source": [
    "df_mar_firstDay.shape"
   ]
  },
  {
   "cell_type": "code",
   "execution_count": 34,
   "metadata": {},
   "outputs": [
    {
     "data": {
      "text/plain": [
       "(612826, 27)"
      ]
     },
     "execution_count": 34,
     "metadata": {},
     "output_type": "execute_result"
    }
   ],
   "source": [
    "df_mar_lastDay.shape"
   ]
  },
  {
   "cell_type": "code",
   "execution_count": 22,
   "metadata": {},
   "outputs": [
    {
     "data": {
      "text/html": [
       "<div>\n",
       "<style scoped>\n",
       "    .dataframe tbody tr th:only-of-type {\n",
       "        vertical-align: middle;\n",
       "    }\n",
       "\n",
       "    .dataframe tbody tr th {\n",
       "        vertical-align: top;\n",
       "    }\n",
       "\n",
       "    .dataframe thead th {\n",
       "        text-align: right;\n",
       "    }\n",
       "</style>\n",
       "<table border=\"1\" class=\"dataframe\">\n",
       "  <thead>\n",
       "    <tr style=\"text-align: right;\">\n",
       "      <th></th>\n",
       "      <th>shipid</th>\n",
       "      <th>date_time_utc</th>\n",
       "      <th>flagname</th>\n",
       "      <th>iceclass</th>\n",
       "      <th>astd_cat</th>\n",
       "      <th>sizegroup_gt</th>\n",
       "      <th>fuelquality</th>\n",
       "      <th>fuelcons</th>\n",
       "      <th>co</th>\n",
       "      <th>co2</th>\n",
       "      <th>...</th>\n",
       "      <th>blackcarbon</th>\n",
       "      <th>organiccarbon</th>\n",
       "      <th>oilbilgewater</th>\n",
       "      <th>blackwater</th>\n",
       "      <th>greywater</th>\n",
       "      <th>garbage</th>\n",
       "      <th>dist_nextpoint</th>\n",
       "      <th>sec_nextpoint</th>\n",
       "      <th>longitude</th>\n",
       "      <th>latitude</th>\n",
       "    </tr>\n",
       "  </thead>\n",
       "  <tbody>\n",
       "    <tr>\n",
       "      <th>18385467</th>\n",
       "      <td>3643</td>\n",
       "      <td>2019-03-31 14:39:03+00:00</td>\n",
       "      <td>Norway</td>\n",
       "      <td>NaN</td>\n",
       "      <td>Passenger ships</td>\n",
       "      <td>&lt; 1000 GT</td>\n",
       "      <td>0</td>\n",
       "      <td>0.035066</td>\n",
       "      <td>0.000259</td>\n",
       "      <td>0.111158</td>\n",
       "      <td>...</td>\n",
       "      <td>6.311800e-06</td>\n",
       "      <td>2.131990e-05</td>\n",
       "      <td>6.400000e-09</td>\n",
       "      <td>0.020891</td>\n",
       "      <td>0.154595</td>\n",
       "      <td>0.001</td>\n",
       "      <td>2307.071800</td>\n",
       "      <td>361</td>\n",
       "      <td>16.747650</td>\n",
       "      <td>68.739500</td>\n",
       "    </tr>\n",
       "    <tr>\n",
       "      <th>18385468</th>\n",
       "      <td>3643</td>\n",
       "      <td>2019-03-31 01:16:02+00:00</td>\n",
       "      <td>Norway</td>\n",
       "      <td>NaN</td>\n",
       "      <td>Passenger ships</td>\n",
       "      <td>&lt; 1000 GT</td>\n",
       "      <td>0</td>\n",
       "      <td>0.000602</td>\n",
       "      <td>0.000004</td>\n",
       "      <td>0.001909</td>\n",
       "      <td>...</td>\n",
       "      <td>1.084000e-07</td>\n",
       "      <td>3.661000e-07</td>\n",
       "      <td>6.700000e-09</td>\n",
       "      <td>0.021991</td>\n",
       "      <td>0.162731</td>\n",
       "      <td>0.001</td>\n",
       "      <td>4.719359</td>\n",
       "      <td>380</td>\n",
       "      <td>16.852022</td>\n",
       "      <td>68.726280</td>\n",
       "    </tr>\n",
       "    <tr>\n",
       "      <th>18385469</th>\n",
       "      <td>3643</td>\n",
       "      <td>2019-03-31 22:47:03+00:00</td>\n",
       "      <td>Norway</td>\n",
       "      <td>NaN</td>\n",
       "      <td>Passenger ships</td>\n",
       "      <td>&lt; 1000 GT</td>\n",
       "      <td>0</td>\n",
       "      <td>0.000588</td>\n",
       "      <td>0.000004</td>\n",
       "      <td>0.001863</td>\n",
       "      <td>...</td>\n",
       "      <td>1.058000e-07</td>\n",
       "      <td>3.574000e-07</td>\n",
       "      <td>6.600000e-09</td>\n",
       "      <td>0.021470</td>\n",
       "      <td>0.158877</td>\n",
       "      <td>0.001</td>\n",
       "      <td>3.299809</td>\n",
       "      <td>371</td>\n",
       "      <td>16.852116</td>\n",
       "      <td>68.726326</td>\n",
       "    </tr>\n",
       "    <tr>\n",
       "      <th>18385470</th>\n",
       "      <td>3643</td>\n",
       "      <td>2019-03-31 12:31:24+00:00</td>\n",
       "      <td>Norway</td>\n",
       "      <td>NaN</td>\n",
       "      <td>Passenger ships</td>\n",
       "      <td>&lt; 1000 GT</td>\n",
       "      <td>0</td>\n",
       "      <td>0.000601</td>\n",
       "      <td>0.000004</td>\n",
       "      <td>0.001904</td>\n",
       "      <td>...</td>\n",
       "      <td>1.081000e-07</td>\n",
       "      <td>3.651000e-07</td>\n",
       "      <td>6.700000e-09</td>\n",
       "      <td>0.021933</td>\n",
       "      <td>0.162303</td>\n",
       "      <td>0.001</td>\n",
       "      <td>7.668708</td>\n",
       "      <td>379</td>\n",
       "      <td>16.852182</td>\n",
       "      <td>68.726330</td>\n",
       "    </tr>\n",
       "    <tr>\n",
       "      <th>18385471</th>\n",
       "      <td>3643</td>\n",
       "      <td>2019-03-31 09:52:33+00:00</td>\n",
       "      <td>Norway</td>\n",
       "      <td>NaN</td>\n",
       "      <td>Passenger ships</td>\n",
       "      <td>&lt; 1000 GT</td>\n",
       "      <td>0</td>\n",
       "      <td>0.000585</td>\n",
       "      <td>0.000004</td>\n",
       "      <td>0.001853</td>\n",
       "      <td>...</td>\n",
       "      <td>1.052000e-07</td>\n",
       "      <td>3.555000e-07</td>\n",
       "      <td>6.500000e-09</td>\n",
       "      <td>0.021354</td>\n",
       "      <td>0.158021</td>\n",
       "      <td>0.001</td>\n",
       "      <td>3.193354</td>\n",
       "      <td>369</td>\n",
       "      <td>16.852127</td>\n",
       "      <td>68.726295</td>\n",
       "    </tr>\n",
       "    <tr>\n",
       "      <th>18385472</th>\n",
       "      <td>3643</td>\n",
       "      <td>2019-03-31 21:28:03+00:00</td>\n",
       "      <td>Norway</td>\n",
       "      <td>NaN</td>\n",
       "      <td>Passenger ships</td>\n",
       "      <td>&lt; 1000 GT</td>\n",
       "      <td>0</td>\n",
       "      <td>0.000570</td>\n",
       "      <td>0.000004</td>\n",
       "      <td>0.001808</td>\n",
       "      <td>...</td>\n",
       "      <td>1.027000e-07</td>\n",
       "      <td>3.468000e-07</td>\n",
       "      <td>6.400000e-09</td>\n",
       "      <td>0.020833</td>\n",
       "      <td>0.154167</td>\n",
       "      <td>0.001</td>\n",
       "      <td>2.497950</td>\n",
       "      <td>360</td>\n",
       "      <td>16.852077</td>\n",
       "      <td>68.726300</td>\n",
       "    </tr>\n",
       "    <tr>\n",
       "      <th>18385473</th>\n",
       "      <td>1036</td>\n",
       "      <td>2019-03-30 02:45:50+00:00</td>\n",
       "      <td>United States Of America</td>\n",
       "      <td>NaN</td>\n",
       "      <td>Fishing vessels</td>\n",
       "      <td>&lt; 1000 GT</td>\n",
       "      <td>0</td>\n",
       "      <td>0.438202</td>\n",
       "      <td>0.003243</td>\n",
       "      <td>1.389101</td>\n",
       "      <td>...</td>\n",
       "      <td>7.887640e-05</td>\n",
       "      <td>2.664271e-04</td>\n",
       "      <td>1.055000e-07</td>\n",
       "      <td>0.019315</td>\n",
       "      <td>0.063463</td>\n",
       "      <td>0.000</td>\n",
       "      <td>34817.957000</td>\n",
       "      <td>5960</td>\n",
       "      <td>-132.557050</td>\n",
       "      <td>50.739630</td>\n",
       "    </tr>\n",
       "    <tr>\n",
       "      <th>18385474</th>\n",
       "      <td>1036</td>\n",
       "      <td>2019-03-30 01:32:59+00:00</td>\n",
       "      <td>United States Of America</td>\n",
       "      <td>NaN</td>\n",
       "      <td>Fishing vessels</td>\n",
       "      <td>&lt; 1000 GT</td>\n",
       "      <td>0</td>\n",
       "      <td>0.017985</td>\n",
       "      <td>0.000133</td>\n",
       "      <td>0.057011</td>\n",
       "      <td>...</td>\n",
       "      <td>3.237200e-06</td>\n",
       "      <td>1.093470e-05</td>\n",
       "      <td>5.100000e-09</td>\n",
       "      <td>0.000933</td>\n",
       "      <td>0.003067</td>\n",
       "      <td>0.000</td>\n",
       "      <td>1538.982900</td>\n",
       "      <td>288</td>\n",
       "      <td>-132.888240</td>\n",
       "      <td>50.824486</td>\n",
       "    </tr>\n",
       "    <tr>\n",
       "      <th>18385475</th>\n",
       "      <td>1036</td>\n",
       "      <td>2019-03-30 11:05:03+00:00</td>\n",
       "      <td>United States Of America</td>\n",
       "      <td>NaN</td>\n",
       "      <td>Fishing vessels</td>\n",
       "      <td>&lt; 1000 GT</td>\n",
       "      <td>0</td>\n",
       "      <td>0.365046</td>\n",
       "      <td>0.002701</td>\n",
       "      <td>1.157196</td>\n",
       "      <td>...</td>\n",
       "      <td>6.570830e-05</td>\n",
       "      <td>2.219480e-04</td>\n",
       "      <td>8.790000e-08</td>\n",
       "      <td>0.016090</td>\n",
       "      <td>0.052868</td>\n",
       "      <td>0.000</td>\n",
       "      <td>28296.525000</td>\n",
       "      <td>4965</td>\n",
       "      <td>-130.310060</td>\n",
       "      <td>50.130615</td>\n",
       "    </tr>\n",
       "    <tr>\n",
       "      <th>18385476</th>\n",
       "      <td>1036</td>\n",
       "      <td>2019-03-30 10:21:28+00:00</td>\n",
       "      <td>United States Of America</td>\n",
       "      <td>NaN</td>\n",
       "      <td>Fishing vessels</td>\n",
       "      <td>&lt; 1000 GT</td>\n",
       "      <td>0</td>\n",
       "      <td>0.145871</td>\n",
       "      <td>0.001079</td>\n",
       "      <td>0.462412</td>\n",
       "      <td>...</td>\n",
       "      <td>2.625680e-05</td>\n",
       "      <td>8.868980e-05</td>\n",
       "      <td>3.510000e-08</td>\n",
       "      <td>0.006430</td>\n",
       "      <td>0.021126</td>\n",
       "      <td>0.000</td>\n",
       "      <td>11253.101000</td>\n",
       "      <td>1984</td>\n",
       "      <td>-130.500670</td>\n",
       "      <td>50.184566</td>\n",
       "    </tr>\n",
       "    <tr>\n",
       "      <th>18385477</th>\n",
       "      <td>9108</td>\n",
       "      <td>2019-03-30 09:52:52+00:00</td>\n",
       "      <td>United States Of America</td>\n",
       "      <td>NaN</td>\n",
       "      <td>Fishing vessels</td>\n",
       "      <td>&lt; 1000 GT</td>\n",
       "      <td>0</td>\n",
       "      <td>0.012066</td>\n",
       "      <td>0.000089</td>\n",
       "      <td>0.038248</td>\n",
       "      <td>...</td>\n",
       "      <td>2.171900e-06</td>\n",
       "      <td>7.335900e-06</td>\n",
       "      <td>6.600000e-09</td>\n",
       "      <td>0.000428</td>\n",
       "      <td>0.003169</td>\n",
       "      <td>0.000</td>\n",
       "      <td>1728.366200</td>\n",
       "      <td>370</td>\n",
       "      <td>-166.660840</td>\n",
       "      <td>54.080643</td>\n",
       "    </tr>\n",
       "    <tr>\n",
       "      <th>18385478</th>\n",
       "      <td>9108</td>\n",
       "      <td>2019-03-30 02:45:14+00:00</td>\n",
       "      <td>United States Of America</td>\n",
       "      <td>NaN</td>\n",
       "      <td>Fishing vessels</td>\n",
       "      <td>&lt; 1000 GT</td>\n",
       "      <td>0</td>\n",
       "      <td>0.169886</td>\n",
       "      <td>0.001257</td>\n",
       "      <td>0.538538</td>\n",
       "      <td>...</td>\n",
       "      <td>3.057950e-05</td>\n",
       "      <td>1.032907e-04</td>\n",
       "      <td>9.990000e-08</td>\n",
       "      <td>0.006529</td>\n",
       "      <td>0.048314</td>\n",
       "      <td>0.000</td>\n",
       "      <td>25578.365000</td>\n",
       "      <td>5641</td>\n",
       "      <td>-167.997800</td>\n",
       "      <td>54.788480</td>\n",
       "    </tr>\n",
       "    <tr>\n",
       "      <th>18385479</th>\n",
       "      <td>9108</td>\n",
       "      <td>2019-03-30 11:04:20+00:00</td>\n",
       "      <td>United States Of America</td>\n",
       "      <td>NaN</td>\n",
       "      <td>Fishing vessels</td>\n",
       "      <td>&lt; 1000 GT</td>\n",
       "      <td>0</td>\n",
       "      <td>0.021612</td>\n",
       "      <td>0.000160</td>\n",
       "      <td>0.068512</td>\n",
       "      <td>...</td>\n",
       "      <td>3.890200e-06</td>\n",
       "      <td>1.314040e-05</td>\n",
       "      <td>9.490000e-08</td>\n",
       "      <td>0.006204</td>\n",
       "      <td>0.045907</td>\n",
       "      <td>0.000</td>\n",
       "      <td>6981.536600</td>\n",
       "      <td>5360</td>\n",
       "      <td>-166.496660</td>\n",
       "      <td>53.938236</td>\n",
       "    </tr>\n",
       "    <tr>\n",
       "      <th>18385480</th>\n",
       "      <td>9108</td>\n",
       "      <td>2019-03-30 04:19:14+00:00</td>\n",
       "      <td>United States Of America</td>\n",
       "      <td>NaN</td>\n",
       "      <td>Fishing vessels</td>\n",
       "      <td>&lt; 1000 GT</td>\n",
       "      <td>0</td>\n",
       "      <td>0.178657</td>\n",
       "      <td>0.001322</td>\n",
       "      <td>0.566344</td>\n",
       "      <td>...</td>\n",
       "      <td>3.215830e-05</td>\n",
       "      <td>1.086237e-04</td>\n",
       "      <td>1.073000e-07</td>\n",
       "      <td>0.007014</td>\n",
       "      <td>0.051903</td>\n",
       "      <td>0.000</td>\n",
       "      <td>27258.875000</td>\n",
       "      <td>6060</td>\n",
       "      <td>-167.701870</td>\n",
       "      <td>54.635380</td>\n",
       "    </tr>\n",
       "    <tr>\n",
       "      <th>18385481</th>\n",
       "      <td>9108</td>\n",
       "      <td>2019-03-30 01:33:02+00:00</td>\n",
       "      <td>United States Of America</td>\n",
       "      <td>NaN</td>\n",
       "      <td>Fishing vessels</td>\n",
       "      <td>&lt; 1000 GT</td>\n",
       "      <td>0</td>\n",
       "      <td>0.011687</td>\n",
       "      <td>0.000086</td>\n",
       "      <td>0.037048</td>\n",
       "      <td>...</td>\n",
       "      <td>2.103700e-06</td>\n",
       "      <td>7.105700e-06</td>\n",
       "      <td>6.900000e-09</td>\n",
       "      <td>0.000451</td>\n",
       "      <td>0.003340</td>\n",
       "      <td>0.000</td>\n",
       "      <td>1765.101800</td>\n",
       "      <td>390</td>\n",
       "      <td>-168.230600</td>\n",
       "      <td>54.905834</td>\n",
       "    </tr>\n",
       "    <tr>\n",
       "      <th>18385482</th>\n",
       "      <td>9108</td>\n",
       "      <td>2019-03-30 14:08:01+00:00</td>\n",
       "      <td>United States Of America</td>\n",
       "      <td>NaN</td>\n",
       "      <td>Fishing vessels</td>\n",
       "      <td>&lt; 1000 GT</td>\n",
       "      <td>0</td>\n",
       "      <td>0.001390</td>\n",
       "      <td>0.000010</td>\n",
       "      <td>0.004407</td>\n",
       "      <td>...</td>\n",
       "      <td>2.502000e-07</td>\n",
       "      <td>8.452000e-07</td>\n",
       "      <td>7.200000e-09</td>\n",
       "      <td>0.000473</td>\n",
       "      <td>0.003503</td>\n",
       "      <td>0.000</td>\n",
       "      <td>0.876835</td>\n",
       "      <td>409</td>\n",
       "      <td>-166.540080</td>\n",
       "      <td>53.881000</td>\n",
       "    </tr>\n",
       "    <tr>\n",
       "      <th>18385483</th>\n",
       "      <td>9108</td>\n",
       "      <td>2019-03-30 09:59:02+00:00</td>\n",
       "      <td>United States Of America</td>\n",
       "      <td>NaN</td>\n",
       "      <td>Fishing vessels</td>\n",
       "      <td>&lt; 1000 GT</td>\n",
       "      <td>0</td>\n",
       "      <td>0.038507</td>\n",
       "      <td>0.000285</td>\n",
       "      <td>0.122066</td>\n",
       "      <td>...</td>\n",
       "      <td>6.931200e-06</td>\n",
       "      <td>2.341200e-05</td>\n",
       "      <td>2.230000e-08</td>\n",
       "      <td>0.001458</td>\n",
       "      <td>0.010792</td>\n",
       "      <td>0.000</td>\n",
       "      <td>5744.815000</td>\n",
       "      <td>1260</td>\n",
       "      <td>-166.641530</td>\n",
       "      <td>54.070060</td>\n",
       "    </tr>\n",
       "    <tr>\n",
       "      <th>18385484</th>\n",
       "      <td>9108</td>\n",
       "      <td>2019-03-30 20:52:21+00:00</td>\n",
       "      <td>United States Of America</td>\n",
       "      <td>NaN</td>\n",
       "      <td>Fishing vessels</td>\n",
       "      <td>&lt; 1000 GT</td>\n",
       "      <td>0</td>\n",
       "      <td>0.005778</td>\n",
       "      <td>0.000043</td>\n",
       "      <td>0.018317</td>\n",
       "      <td>...</td>\n",
       "      <td>1.040100e-06</td>\n",
       "      <td>3.513100e-06</td>\n",
       "      <td>3.010000e-08</td>\n",
       "      <td>0.001968</td>\n",
       "      <td>0.014560</td>\n",
       "      <td>0.000</td>\n",
       "      <td>2.434829</td>\n",
       "      <td>1700</td>\n",
       "      <td>-166.540120</td>\n",
       "      <td>53.880962</td>\n",
       "    </tr>\n",
       "    <tr>\n",
       "      <th>18385485</th>\n",
       "      <td>9108</td>\n",
       "      <td>2019-03-30 21:20:40+00:00</td>\n",
       "      <td>United States Of America</td>\n",
       "      <td>NaN</td>\n",
       "      <td>Fishing vessels</td>\n",
       "      <td>&lt; 1000 GT</td>\n",
       "      <td>0</td>\n",
       "      <td>0.014041</td>\n",
       "      <td>0.000104</td>\n",
       "      <td>0.044509</td>\n",
       "      <td>...</td>\n",
       "      <td>2.527300e-06</td>\n",
       "      <td>8.536800e-06</td>\n",
       "      <td>7.320000e-08</td>\n",
       "      <td>0.004781</td>\n",
       "      <td>0.035381</td>\n",
       "      <td>0.000</td>\n",
       "      <td>1.771942</td>\n",
       "      <td>4131</td>\n",
       "      <td>-166.540130</td>\n",
       "      <td>53.880980</td>\n",
       "    </tr>\n",
       "    <tr>\n",
       "      <th>18385486</th>\n",
       "      <td>9108</td>\n",
       "      <td>2019-03-30 10:20:01+00:00</td>\n",
       "      <td>United States Of America</td>\n",
       "      <td>NaN</td>\n",
       "      <td>Fishing vessels</td>\n",
       "      <td>&lt; 1000 GT</td>\n",
       "      <td>0</td>\n",
       "      <td>0.012382</td>\n",
       "      <td>0.000092</td>\n",
       "      <td>0.039252</td>\n",
       "      <td>...</td>\n",
       "      <td>2.228800e-06</td>\n",
       "      <td>7.528400e-06</td>\n",
       "      <td>7.400000e-09</td>\n",
       "      <td>0.000485</td>\n",
       "      <td>0.003589</td>\n",
       "      <td>0.000</td>\n",
       "      <td>1886.426300</td>\n",
       "      <td>419</td>\n",
       "      <td>-166.578050</td>\n",
       "      <td>54.034440</td>\n",
       "    </tr>\n",
       "  </tbody>\n",
       "</table>\n",
       "<p>20 rows × 26 columns</p>\n",
       "</div>"
      ],
      "text/plain": [
       "          shipid             date_time_utc                  flagname iceclass  \\\n",
       "18385467    3643 2019-03-31 14:39:03+00:00                    Norway      NaN   \n",
       "18385468    3643 2019-03-31 01:16:02+00:00                    Norway      NaN   \n",
       "18385469    3643 2019-03-31 22:47:03+00:00                    Norway      NaN   \n",
       "18385470    3643 2019-03-31 12:31:24+00:00                    Norway      NaN   \n",
       "18385471    3643 2019-03-31 09:52:33+00:00                    Norway      NaN   \n",
       "18385472    3643 2019-03-31 21:28:03+00:00                    Norway      NaN   \n",
       "18385473    1036 2019-03-30 02:45:50+00:00  United States Of America      NaN   \n",
       "18385474    1036 2019-03-30 01:32:59+00:00  United States Of America      NaN   \n",
       "18385475    1036 2019-03-30 11:05:03+00:00  United States Of America      NaN   \n",
       "18385476    1036 2019-03-30 10:21:28+00:00  United States Of America      NaN   \n",
       "18385477    9108 2019-03-30 09:52:52+00:00  United States Of America      NaN   \n",
       "18385478    9108 2019-03-30 02:45:14+00:00  United States Of America      NaN   \n",
       "18385479    9108 2019-03-30 11:04:20+00:00  United States Of America      NaN   \n",
       "18385480    9108 2019-03-30 04:19:14+00:00  United States Of America      NaN   \n",
       "18385481    9108 2019-03-30 01:33:02+00:00  United States Of America      NaN   \n",
       "18385482    9108 2019-03-30 14:08:01+00:00  United States Of America      NaN   \n",
       "18385483    9108 2019-03-30 09:59:02+00:00  United States Of America      NaN   \n",
       "18385484    9108 2019-03-30 20:52:21+00:00  United States Of America      NaN   \n",
       "18385485    9108 2019-03-30 21:20:40+00:00  United States Of America      NaN   \n",
       "18385486    9108 2019-03-30 10:20:01+00:00  United States Of America      NaN   \n",
       "\n",
       "                 astd_cat sizegroup_gt  fuelquality  fuelcons        co  \\\n",
       "18385467  Passenger ships    < 1000 GT            0  0.035066  0.000259   \n",
       "18385468  Passenger ships    < 1000 GT            0  0.000602  0.000004   \n",
       "18385469  Passenger ships    < 1000 GT            0  0.000588  0.000004   \n",
       "18385470  Passenger ships    < 1000 GT            0  0.000601  0.000004   \n",
       "18385471  Passenger ships    < 1000 GT            0  0.000585  0.000004   \n",
       "18385472  Passenger ships    < 1000 GT            0  0.000570  0.000004   \n",
       "18385473  Fishing vessels    < 1000 GT            0  0.438202  0.003243   \n",
       "18385474  Fishing vessels    < 1000 GT            0  0.017985  0.000133   \n",
       "18385475  Fishing vessels    < 1000 GT            0  0.365046  0.002701   \n",
       "18385476  Fishing vessels    < 1000 GT            0  0.145871  0.001079   \n",
       "18385477  Fishing vessels    < 1000 GT            0  0.012066  0.000089   \n",
       "18385478  Fishing vessels    < 1000 GT            0  0.169886  0.001257   \n",
       "18385479  Fishing vessels    < 1000 GT            0  0.021612  0.000160   \n",
       "18385480  Fishing vessels    < 1000 GT            0  0.178657  0.001322   \n",
       "18385481  Fishing vessels    < 1000 GT            0  0.011687  0.000086   \n",
       "18385482  Fishing vessels    < 1000 GT            0  0.001390  0.000010   \n",
       "18385483  Fishing vessels    < 1000 GT            0  0.038507  0.000285   \n",
       "18385484  Fishing vessels    < 1000 GT            0  0.005778  0.000043   \n",
       "18385485  Fishing vessels    < 1000 GT            0  0.014041  0.000104   \n",
       "18385486  Fishing vessels    < 1000 GT            0  0.012382  0.000092   \n",
       "\n",
       "               co2  ...   blackcarbon  organiccarbon  oilbilgewater  \\\n",
       "18385467  0.111158  ...  6.311800e-06   2.131990e-05   6.400000e-09   \n",
       "18385468  0.001909  ...  1.084000e-07   3.661000e-07   6.700000e-09   \n",
       "18385469  0.001863  ...  1.058000e-07   3.574000e-07   6.600000e-09   \n",
       "18385470  0.001904  ...  1.081000e-07   3.651000e-07   6.700000e-09   \n",
       "18385471  0.001853  ...  1.052000e-07   3.555000e-07   6.500000e-09   \n",
       "18385472  0.001808  ...  1.027000e-07   3.468000e-07   6.400000e-09   \n",
       "18385473  1.389101  ...  7.887640e-05   2.664271e-04   1.055000e-07   \n",
       "18385474  0.057011  ...  3.237200e-06   1.093470e-05   5.100000e-09   \n",
       "18385475  1.157196  ...  6.570830e-05   2.219480e-04   8.790000e-08   \n",
       "18385476  0.462412  ...  2.625680e-05   8.868980e-05   3.510000e-08   \n",
       "18385477  0.038248  ...  2.171900e-06   7.335900e-06   6.600000e-09   \n",
       "18385478  0.538538  ...  3.057950e-05   1.032907e-04   9.990000e-08   \n",
       "18385479  0.068512  ...  3.890200e-06   1.314040e-05   9.490000e-08   \n",
       "18385480  0.566344  ...  3.215830e-05   1.086237e-04   1.073000e-07   \n",
       "18385481  0.037048  ...  2.103700e-06   7.105700e-06   6.900000e-09   \n",
       "18385482  0.004407  ...  2.502000e-07   8.452000e-07   7.200000e-09   \n",
       "18385483  0.122066  ...  6.931200e-06   2.341200e-05   2.230000e-08   \n",
       "18385484  0.018317  ...  1.040100e-06   3.513100e-06   3.010000e-08   \n",
       "18385485  0.044509  ...  2.527300e-06   8.536800e-06   7.320000e-08   \n",
       "18385486  0.039252  ...  2.228800e-06   7.528400e-06   7.400000e-09   \n",
       "\n",
       "          blackwater  greywater  garbage  dist_nextpoint  sec_nextpoint  \\\n",
       "18385467    0.020891   0.154595    0.001     2307.071800            361   \n",
       "18385468    0.021991   0.162731    0.001        4.719359            380   \n",
       "18385469    0.021470   0.158877    0.001        3.299809            371   \n",
       "18385470    0.021933   0.162303    0.001        7.668708            379   \n",
       "18385471    0.021354   0.158021    0.001        3.193354            369   \n",
       "18385472    0.020833   0.154167    0.001        2.497950            360   \n",
       "18385473    0.019315   0.063463    0.000    34817.957000           5960   \n",
       "18385474    0.000933   0.003067    0.000     1538.982900            288   \n",
       "18385475    0.016090   0.052868    0.000    28296.525000           4965   \n",
       "18385476    0.006430   0.021126    0.000    11253.101000           1984   \n",
       "18385477    0.000428   0.003169    0.000     1728.366200            370   \n",
       "18385478    0.006529   0.048314    0.000    25578.365000           5641   \n",
       "18385479    0.006204   0.045907    0.000     6981.536600           5360   \n",
       "18385480    0.007014   0.051903    0.000    27258.875000           6060   \n",
       "18385481    0.000451   0.003340    0.000     1765.101800            390   \n",
       "18385482    0.000473   0.003503    0.000        0.876835            409   \n",
       "18385483    0.001458   0.010792    0.000     5744.815000           1260   \n",
       "18385484    0.001968   0.014560    0.000        2.434829           1700   \n",
       "18385485    0.004781   0.035381    0.000        1.771942           4131   \n",
       "18385486    0.000485   0.003589    0.000     1886.426300            419   \n",
       "\n",
       "           longitude   latitude  \n",
       "18385467   16.747650  68.739500  \n",
       "18385468   16.852022  68.726280  \n",
       "18385469   16.852116  68.726326  \n",
       "18385470   16.852182  68.726330  \n",
       "18385471   16.852127  68.726295  \n",
       "18385472   16.852077  68.726300  \n",
       "18385473 -132.557050  50.739630  \n",
       "18385474 -132.888240  50.824486  \n",
       "18385475 -130.310060  50.130615  \n",
       "18385476 -130.500670  50.184566  \n",
       "18385477 -166.660840  54.080643  \n",
       "18385478 -167.997800  54.788480  \n",
       "18385479 -166.496660  53.938236  \n",
       "18385480 -167.701870  54.635380  \n",
       "18385481 -168.230600  54.905834  \n",
       "18385482 -166.540080  53.881000  \n",
       "18385483 -166.641530  54.070060  \n",
       "18385484 -166.540120  53.880962  \n",
       "18385485 -166.540130  53.880980  \n",
       "18385486 -166.578050  54.034440  \n",
       "\n",
       "[20 rows x 26 columns]"
      ]
     },
     "execution_count": 22,
     "metadata": {},
     "output_type": "execute_result"
    }
   ],
   "source": [
    "df_mar.tail(20)"
   ]
  },
  {
   "cell_type": "code",
   "execution_count": 23,
   "metadata": {},
   "outputs": [],
   "source": [
    "######################\n",
    "# APR CONDITIONING\n",
    "######################"
   ]
  },
  {
   "cell_type": "code",
   "execution_count": 35,
   "metadata": {},
   "outputs": [],
   "source": [
    "df_apr['date_time_utc'] = pd.to_datetime(df_apr['date_time_utc'], utc=True)\n",
    "df_apr['date'] = df_apr['date_time_utc'].dt.date"
   ]
  },
  {
   "cell_type": "code",
   "execution_count": 36,
   "metadata": {},
   "outputs": [],
   "source": [
    "df_apr_firstDay = df_apr[(df_apr['date'] == datetime(2019, 4, 1).date())]\n",
    "df_apr_lastDay = df_apr[(df_apr['date'] == datetime(2019, 4, 30).date())]"
   ]
  },
  {
   "cell_type": "code",
   "execution_count": 37,
   "metadata": {},
   "outputs": [
    {
     "data": {
      "text/plain": [
       "(606605, 27)"
      ]
     },
     "execution_count": 37,
     "metadata": {},
     "output_type": "execute_result"
    }
   ],
   "source": [
    "df_apr_firstDay.shape"
   ]
  },
  {
   "cell_type": "code",
   "execution_count": 38,
   "metadata": {},
   "outputs": [
    {
     "data": {
      "text/plain": [
       "(634912, 27)"
      ]
     },
     "execution_count": 38,
     "metadata": {},
     "output_type": "execute_result"
    }
   ],
   "source": [
    "df_apr_lastDay.shape"
   ]
  },
  {
   "cell_type": "code",
   "execution_count": 28,
   "metadata": {},
   "outputs": [],
   "source": [
    "######################\n",
    "# MAY CONDITIONING\n",
    "######################"
   ]
  },
  {
   "cell_type": "code",
   "execution_count": 39,
   "metadata": {},
   "outputs": [],
   "source": [
    "df_may['date_time_utc'] = pd.to_datetime(df_may['date_time_utc'], utc=True)\n",
    "df_may['date'] = df_may['date_time_utc'].dt.date"
   ]
  },
  {
   "cell_type": "code",
   "execution_count": 40,
   "metadata": {},
   "outputs": [],
   "source": [
    "df_may_firstDay = df_may[(df_may['date'] == datetime(2019, 5, 1).date())]\n",
    "df_may_lastDay = df_may[(df_may['date'] == datetime(2019, 5, 31).date())]"
   ]
  },
  {
   "cell_type": "code",
   "execution_count": 41,
   "metadata": {},
   "outputs": [
    {
     "data": {
      "text/plain": [
       "(643249, 27)"
      ]
     },
     "execution_count": 41,
     "metadata": {},
     "output_type": "execute_result"
    }
   ],
   "source": [
    "df_may_firstDay.shape"
   ]
  },
  {
   "cell_type": "code",
   "execution_count": 42,
   "metadata": {},
   "outputs": [
    {
     "data": {
      "text/plain": [
       "(651231, 27)"
      ]
     },
     "execution_count": 42,
     "metadata": {},
     "output_type": "execute_result"
    }
   ],
   "source": [
    "df_may_lastDay.shape"
   ]
  },
  {
   "cell_type": "code",
   "execution_count": 33,
   "metadata": {},
   "outputs": [],
   "source": [
    "######################\n",
    "# JUN CONDITIONING\n",
    "######################"
   ]
  },
  {
   "cell_type": "code",
   "execution_count": 43,
   "metadata": {},
   "outputs": [],
   "source": [
    "df_jun['date_time_utc'] = pd.to_datetime(df_jun['date_time_utc'], utc=True)\n",
    "df_jun['date'] = df_jun['date_time_utc'].dt.date"
   ]
  },
  {
   "cell_type": "code",
   "execution_count": 46,
   "metadata": {},
   "outputs": [],
   "source": [
    "df_jun_firstDay = df_jun[(df_jun['date'] == datetime(2019, 6, 1).date())]\n",
    "df_jun_lastDay = df_jun[(df_jun['date'] == datetime(2019, 6, 30).date())]"
   ]
  },
  {
   "cell_type": "code",
   "execution_count": 47,
   "metadata": {},
   "outputs": [
    {
     "data": {
      "text/plain": [
       "(627447, 27)"
      ]
     },
     "execution_count": 47,
     "metadata": {},
     "output_type": "execute_result"
    }
   ],
   "source": [
    "df_jun_firstDay.shape"
   ]
  },
  {
   "cell_type": "code",
   "execution_count": 48,
   "metadata": {},
   "outputs": [
    {
     "data": {
      "text/plain": [
       "(651285, 27)"
      ]
     },
     "execution_count": 48,
     "metadata": {},
     "output_type": "execute_result"
    }
   ],
   "source": [
    "df_jun_lastDay.shape"
   ]
  },
  {
   "cell_type": "code",
   "execution_count": 38,
   "metadata": {},
   "outputs": [],
   "source": [
    "######################\n",
    "# JUL CONDITITONING\n",
    "######################"
   ]
  },
  {
   "cell_type": "code",
   "execution_count": 49,
   "metadata": {},
   "outputs": [],
   "source": [
    "df_jul['date_time_utc'] = pd.to_datetime(df_jul['date_time_utc'], utc=True)\n",
    "df_jul['date'] = df_jul['date_time_utc'].dt.date"
   ]
  },
  {
   "cell_type": "code",
   "execution_count": 60,
   "metadata": {},
   "outputs": [],
   "source": [
    "df_jul_firstDay = df_jul[(df_jul['date'] == datetime(2019, 7, 1).date())]\n",
    "df_jul_lastDay = df_jul[(df_jul['date'] == datetime(2019, 7, 31).date())]"
   ]
  },
  {
   "cell_type": "code",
   "execution_count": 51,
   "metadata": {},
   "outputs": [
    {
     "data": {
      "text/plain": [
       "(667941, 27)"
      ]
     },
     "execution_count": 51,
     "metadata": {},
     "output_type": "execute_result"
    }
   ],
   "source": [
    "df_jul_firstDay.shape"
   ]
  },
  {
   "cell_type": "code",
   "execution_count": 61,
   "metadata": {},
   "outputs": [
    {
     "data": {
      "text/plain": [
       "(661632, 27)"
      ]
     },
     "execution_count": 61,
     "metadata": {},
     "output_type": "execute_result"
    }
   ],
   "source": [
    "df_jul_lastDay.shape"
   ]
  },
  {
   "cell_type": "code",
   "execution_count": 63,
   "metadata": {},
   "outputs": [
    {
     "data": {
      "text/html": [
       "<div>\n",
       "<style scoped>\n",
       "    .dataframe tbody tr th:only-of-type {\n",
       "        vertical-align: middle;\n",
       "    }\n",
       "\n",
       "    .dataframe tbody tr th {\n",
       "        vertical-align: top;\n",
       "    }\n",
       "\n",
       "    .dataframe thead th {\n",
       "        text-align: right;\n",
       "    }\n",
       "</style>\n",
       "<table border=\"1\" class=\"dataframe\">\n",
       "  <thead>\n",
       "    <tr style=\"text-align: right;\">\n",
       "      <th></th>\n",
       "      <th>shipid</th>\n",
       "      <th>date_time_utc</th>\n",
       "      <th>flagname</th>\n",
       "      <th>iceclass</th>\n",
       "      <th>astd_cat</th>\n",
       "      <th>sizegroup_gt</th>\n",
       "      <th>fuelquality</th>\n",
       "      <th>fuelcons</th>\n",
       "      <th>co</th>\n",
       "      <th>co2</th>\n",
       "      <th>...</th>\n",
       "      <th>organiccarbon</th>\n",
       "      <th>oilbilgewater</th>\n",
       "      <th>blackwater</th>\n",
       "      <th>greywater</th>\n",
       "      <th>garbage</th>\n",
       "      <th>dist_nextpoint</th>\n",
       "      <th>sec_nextpoint</th>\n",
       "      <th>longitude</th>\n",
       "      <th>latitude</th>\n",
       "      <th>date</th>\n",
       "    </tr>\n",
       "  </thead>\n",
       "  <tbody>\n",
       "    <tr>\n",
       "      <th>0</th>\n",
       "      <td>0</td>\n",
       "      <td>2019-07-12 18:41:41+00:00</td>\n",
       "      <td>NaN</td>\n",
       "      <td>NaN</td>\n",
       "      <td>Unknown</td>\n",
       "      <td>NaN</td>\n",
       "      <td>0</td>\n",
       "      <td>NaN</td>\n",
       "      <td>NaN</td>\n",
       "      <td>NaN</td>\n",
       "      <td>...</td>\n",
       "      <td>NaN</td>\n",
       "      <td>NaN</td>\n",
       "      <td>NaN</td>\n",
       "      <td>NaN</td>\n",
       "      <td>NaN</td>\n",
       "      <td>NaN</td>\n",
       "      <td>0</td>\n",
       "      <td>-177.943570</td>\n",
       "      <td>81.957230</td>\n",
       "      <td>2019-07-12</td>\n",
       "    </tr>\n",
       "    <tr>\n",
       "      <th>1</th>\n",
       "      <td>1</td>\n",
       "      <td>2019-07-12 06:35:12+00:00</td>\n",
       "      <td>NaN</td>\n",
       "      <td>NaN</td>\n",
       "      <td>Unknown</td>\n",
       "      <td>NaN</td>\n",
       "      <td>0</td>\n",
       "      <td>NaN</td>\n",
       "      <td>NaN</td>\n",
       "      <td>NaN</td>\n",
       "      <td>...</td>\n",
       "      <td>NaN</td>\n",
       "      <td>NaN</td>\n",
       "      <td>NaN</td>\n",
       "      <td>NaN</td>\n",
       "      <td>NaN</td>\n",
       "      <td>NaN</td>\n",
       "      <td>0</td>\n",
       "      <td>-26.548027</td>\n",
       "      <td>74.232450</td>\n",
       "      <td>2019-07-12</td>\n",
       "    </tr>\n",
       "    <tr>\n",
       "      <th>2</th>\n",
       "      <td>2</td>\n",
       "      <td>2019-07-12 03:11:20+00:00</td>\n",
       "      <td>NaN</td>\n",
       "      <td>NaN</td>\n",
       "      <td>Unknown</td>\n",
       "      <td>NaN</td>\n",
       "      <td>0</td>\n",
       "      <td>NaN</td>\n",
       "      <td>NaN</td>\n",
       "      <td>NaN</td>\n",
       "      <td>...</td>\n",
       "      <td>NaN</td>\n",
       "      <td>NaN</td>\n",
       "      <td>NaN</td>\n",
       "      <td>NaN</td>\n",
       "      <td>NaN</td>\n",
       "      <td>NaN</td>\n",
       "      <td>0</td>\n",
       "      <td>-13.180480</td>\n",
       "      <td>68.511860</td>\n",
       "      <td>2019-07-12</td>\n",
       "    </tr>\n",
       "    <tr>\n",
       "      <th>3</th>\n",
       "      <td>3</td>\n",
       "      <td>2019-07-12 06:31:17+00:00</td>\n",
       "      <td>NaN</td>\n",
       "      <td>NaN</td>\n",
       "      <td>Unknown</td>\n",
       "      <td>NaN</td>\n",
       "      <td>0</td>\n",
       "      <td>NaN</td>\n",
       "      <td>NaN</td>\n",
       "      <td>NaN</td>\n",
       "      <td>...</td>\n",
       "      <td>NaN</td>\n",
       "      <td>NaN</td>\n",
       "      <td>NaN</td>\n",
       "      <td>NaN</td>\n",
       "      <td>NaN</td>\n",
       "      <td>NaN</td>\n",
       "      <td>0</td>\n",
       "      <td>24.432747</td>\n",
       "      <td>76.544266</td>\n",
       "      <td>2019-07-12</td>\n",
       "    </tr>\n",
       "    <tr>\n",
       "      <th>4</th>\n",
       "      <td>4</td>\n",
       "      <td>2019-07-12 01:49:02+00:00</td>\n",
       "      <td>NaN</td>\n",
       "      <td>NaN</td>\n",
       "      <td>Unknown</td>\n",
       "      <td>NaN</td>\n",
       "      <td>0</td>\n",
       "      <td>NaN</td>\n",
       "      <td>NaN</td>\n",
       "      <td>NaN</td>\n",
       "      <td>...</td>\n",
       "      <td>NaN</td>\n",
       "      <td>NaN</td>\n",
       "      <td>NaN</td>\n",
       "      <td>NaN</td>\n",
       "      <td>NaN</td>\n",
       "      <td>NaN</td>\n",
       "      <td>0</td>\n",
       "      <td>76.131226</td>\n",
       "      <td>66.630720</td>\n",
       "      <td>2019-07-12</td>\n",
       "    </tr>\n",
       "  </tbody>\n",
       "</table>\n",
       "<p>5 rows × 27 columns</p>\n",
       "</div>"
      ],
      "text/plain": [
       "   shipid             date_time_utc flagname iceclass astd_cat sizegroup_gt  \\\n",
       "0       0 2019-07-12 18:41:41+00:00      NaN      NaN  Unknown          NaN   \n",
       "1       1 2019-07-12 06:35:12+00:00      NaN      NaN  Unknown          NaN   \n",
       "2       2 2019-07-12 03:11:20+00:00      NaN      NaN  Unknown          NaN   \n",
       "3       3 2019-07-12 06:31:17+00:00      NaN      NaN  Unknown          NaN   \n",
       "4       4 2019-07-12 01:49:02+00:00      NaN      NaN  Unknown          NaN   \n",
       "\n",
       "   fuelquality  fuelcons  co  co2  ...  organiccarbon  oilbilgewater  \\\n",
       "0            0       NaN NaN  NaN  ...            NaN            NaN   \n",
       "1            0       NaN NaN  NaN  ...            NaN            NaN   \n",
       "2            0       NaN NaN  NaN  ...            NaN            NaN   \n",
       "3            0       NaN NaN  NaN  ...            NaN            NaN   \n",
       "4            0       NaN NaN  NaN  ...            NaN            NaN   \n",
       "\n",
       "   blackwater  greywater  garbage  dist_nextpoint  sec_nextpoint   longitude  \\\n",
       "0         NaN        NaN      NaN             NaN              0 -177.943570   \n",
       "1         NaN        NaN      NaN             NaN              0  -26.548027   \n",
       "2         NaN        NaN      NaN             NaN              0  -13.180480   \n",
       "3         NaN        NaN      NaN             NaN              0   24.432747   \n",
       "4         NaN        NaN      NaN             NaN              0   76.131226   \n",
       "\n",
       "    latitude        date  \n",
       "0  81.957230  2019-07-12  \n",
       "1  74.232450  2019-07-12  \n",
       "2  68.511860  2019-07-12  \n",
       "3  76.544266  2019-07-12  \n",
       "4  66.630720  2019-07-12  \n",
       "\n",
       "[5 rows x 27 columns]"
      ]
     },
     "execution_count": 63,
     "metadata": {},
     "output_type": "execute_result"
    }
   ],
   "source": [
    "df_jul.head(5)"
   ]
  },
  {
   "cell_type": "code",
   "execution_count": 62,
   "metadata": {},
   "outputs": [
    {
     "data": {
      "text/html": [
       "<div>\n",
       "<style scoped>\n",
       "    .dataframe tbody tr th:only-of-type {\n",
       "        vertical-align: middle;\n",
       "    }\n",
       "\n",
       "    .dataframe tbody tr th {\n",
       "        vertical-align: top;\n",
       "    }\n",
       "\n",
       "    .dataframe thead th {\n",
       "        text-align: right;\n",
       "    }\n",
       "</style>\n",
       "<table border=\"1\" class=\"dataframe\">\n",
       "  <thead>\n",
       "    <tr style=\"text-align: right;\">\n",
       "      <th></th>\n",
       "      <th>shipid</th>\n",
       "      <th>date_time_utc</th>\n",
       "      <th>flagname</th>\n",
       "      <th>iceclass</th>\n",
       "      <th>astd_cat</th>\n",
       "      <th>sizegroup_gt</th>\n",
       "      <th>fuelquality</th>\n",
       "      <th>fuelcons</th>\n",
       "      <th>co</th>\n",
       "      <th>co2</th>\n",
       "      <th>...</th>\n",
       "      <th>organiccarbon</th>\n",
       "      <th>oilbilgewater</th>\n",
       "      <th>blackwater</th>\n",
       "      <th>greywater</th>\n",
       "      <th>garbage</th>\n",
       "      <th>dist_nextpoint</th>\n",
       "      <th>sec_nextpoint</th>\n",
       "      <th>longitude</th>\n",
       "      <th>latitude</th>\n",
       "      <th>date</th>\n",
       "    </tr>\n",
       "  </thead>\n",
       "  <tbody>\n",
       "    <tr>\n",
       "      <th>21134443</th>\n",
       "      <td>5359</td>\n",
       "      <td>2019-07-12 15:25:07+00:00</td>\n",
       "      <td>Panama</td>\n",
       "      <td>NaN</td>\n",
       "      <td>Other activities</td>\n",
       "      <td>&lt; 1000 GT</td>\n",
       "      <td>0</td>\n",
       "      <td>0.023506</td>\n",
       "      <td>0.000174</td>\n",
       "      <td>0.074515</td>\n",
       "      <td>...</td>\n",
       "      <td>1.429180e-05</td>\n",
       "      <td>6.400000e-09</td>\n",
       "      <td>0.000418</td>\n",
       "      <td>0.003092</td>\n",
       "      <td>0.0</td>\n",
       "      <td>1750.797000</td>\n",
       "      <td>361</td>\n",
       "      <td>5.465095</td>\n",
       "      <td>63.645790</td>\n",
       "      <td>2019-07-12</td>\n",
       "    </tr>\n",
       "    <tr>\n",
       "      <th>21134444</th>\n",
       "      <td>5359</td>\n",
       "      <td>2019-07-12 02:28:48+00:00</td>\n",
       "      <td>Panama</td>\n",
       "      <td>NaN</td>\n",
       "      <td>Other activities</td>\n",
       "      <td>&lt; 1000 GT</td>\n",
       "      <td>0</td>\n",
       "      <td>0.002896</td>\n",
       "      <td>0.000021</td>\n",
       "      <td>0.009179</td>\n",
       "      <td>...</td>\n",
       "      <td>1.760500e-06</td>\n",
       "      <td>6.500000e-09</td>\n",
       "      <td>0.000427</td>\n",
       "      <td>0.003160</td>\n",
       "      <td>0.0</td>\n",
       "      <td>823.383100</td>\n",
       "      <td>369</td>\n",
       "      <td>5.434545</td>\n",
       "      <td>63.381054</td>\n",
       "      <td>2019-07-12</td>\n",
       "    </tr>\n",
       "    <tr>\n",
       "      <th>21134445</th>\n",
       "      <td>1344</td>\n",
       "      <td>2019-07-12 21:24:23+00:00</td>\n",
       "      <td>United States Of America</td>\n",
       "      <td>NaN</td>\n",
       "      <td>Fishing vessels</td>\n",
       "      <td>&lt; 1000 GT</td>\n",
       "      <td>0</td>\n",
       "      <td>0.030880</td>\n",
       "      <td>0.000229</td>\n",
       "      <td>0.097890</td>\n",
       "      <td>...</td>\n",
       "      <td>1.877500e-05</td>\n",
       "      <td>7.400000e-09</td>\n",
       "      <td>0.001361</td>\n",
       "      <td>0.004472</td>\n",
       "      <td>0.0</td>\n",
       "      <td>2823.960200</td>\n",
       "      <td>420</td>\n",
       "      <td>-158.187850</td>\n",
       "      <td>58.253260</td>\n",
       "      <td>2019-07-12</td>\n",
       "    </tr>\n",
       "    <tr>\n",
       "      <th>21134446</th>\n",
       "      <td>1344</td>\n",
       "      <td>2019-07-12 10:25:19+00:00</td>\n",
       "      <td>United States Of America</td>\n",
       "      <td>NaN</td>\n",
       "      <td>Fishing vessels</td>\n",
       "      <td>&lt; 1000 GT</td>\n",
       "      <td>0</td>\n",
       "      <td>0.000833</td>\n",
       "      <td>0.000006</td>\n",
       "      <td>0.002640</td>\n",
       "      <td>...</td>\n",
       "      <td>5.063000e-07</td>\n",
       "      <td>4.300000e-09</td>\n",
       "      <td>0.000794</td>\n",
       "      <td>0.002609</td>\n",
       "      <td>0.0</td>\n",
       "      <td>20.473522</td>\n",
       "      <td>245</td>\n",
       "      <td>-157.267030</td>\n",
       "      <td>58.700516</td>\n",
       "      <td>2019-07-12</td>\n",
       "    </tr>\n",
       "    <tr>\n",
       "      <th>21134447</th>\n",
       "      <td>1344</td>\n",
       "      <td>2019-07-12 11:28:42+00:00</td>\n",
       "      <td>United States Of America</td>\n",
       "      <td>NaN</td>\n",
       "      <td>Fishing vessels</td>\n",
       "      <td>&lt; 1000 GT</td>\n",
       "      <td>0</td>\n",
       "      <td>0.001567</td>\n",
       "      <td>0.000012</td>\n",
       "      <td>0.004967</td>\n",
       "      <td>...</td>\n",
       "      <td>9.527000e-07</td>\n",
       "      <td>8.200000e-09</td>\n",
       "      <td>0.001494</td>\n",
       "      <td>0.004909</td>\n",
       "      <td>0.0</td>\n",
       "      <td>1.715073</td>\n",
       "      <td>461</td>\n",
       "      <td>-157.266900</td>\n",
       "      <td>58.700390</td>\n",
       "      <td>2019-07-12</td>\n",
       "    </tr>\n",
       "  </tbody>\n",
       "</table>\n",
       "<p>5 rows × 27 columns</p>\n",
       "</div>"
      ],
      "text/plain": [
       "          shipid             date_time_utc                  flagname iceclass  \\\n",
       "21134443    5359 2019-07-12 15:25:07+00:00                    Panama      NaN   \n",
       "21134444    5359 2019-07-12 02:28:48+00:00                    Panama      NaN   \n",
       "21134445    1344 2019-07-12 21:24:23+00:00  United States Of America      NaN   \n",
       "21134446    1344 2019-07-12 10:25:19+00:00  United States Of America      NaN   \n",
       "21134447    1344 2019-07-12 11:28:42+00:00  United States Of America      NaN   \n",
       "\n",
       "                  astd_cat sizegroup_gt  fuelquality  fuelcons        co  \\\n",
       "21134443  Other activities    < 1000 GT            0  0.023506  0.000174   \n",
       "21134444  Other activities    < 1000 GT            0  0.002896  0.000021   \n",
       "21134445   Fishing vessels    < 1000 GT            0  0.030880  0.000229   \n",
       "21134446   Fishing vessels    < 1000 GT            0  0.000833  0.000006   \n",
       "21134447   Fishing vessels    < 1000 GT            0  0.001567  0.000012   \n",
       "\n",
       "               co2  ...  organiccarbon  oilbilgewater  blackwater  greywater  \\\n",
       "21134443  0.074515  ...   1.429180e-05   6.400000e-09    0.000418   0.003092   \n",
       "21134444  0.009179  ...   1.760500e-06   6.500000e-09    0.000427   0.003160   \n",
       "21134445  0.097890  ...   1.877500e-05   7.400000e-09    0.001361   0.004472   \n",
       "21134446  0.002640  ...   5.063000e-07   4.300000e-09    0.000794   0.002609   \n",
       "21134447  0.004967  ...   9.527000e-07   8.200000e-09    0.001494   0.004909   \n",
       "\n",
       "          garbage  dist_nextpoint  sec_nextpoint   longitude   latitude  \\\n",
       "21134443      0.0     1750.797000            361    5.465095  63.645790   \n",
       "21134444      0.0      823.383100            369    5.434545  63.381054   \n",
       "21134445      0.0     2823.960200            420 -158.187850  58.253260   \n",
       "21134446      0.0       20.473522            245 -157.267030  58.700516   \n",
       "21134447      0.0        1.715073            461 -157.266900  58.700390   \n",
       "\n",
       "                date  \n",
       "21134443  2019-07-12  \n",
       "21134444  2019-07-12  \n",
       "21134445  2019-07-12  \n",
       "21134446  2019-07-12  \n",
       "21134447  2019-07-12  \n",
       "\n",
       "[5 rows x 27 columns]"
      ]
     },
     "execution_count": 62,
     "metadata": {},
     "output_type": "execute_result"
    }
   ],
   "source": [
    "df_jul.tail(5)"
   ]
  },
  {
   "cell_type": "code",
   "execution_count": 45,
   "metadata": {},
   "outputs": [],
   "source": [
    "####################\n",
    "# AUG CONDITIONING\n",
    "####################"
   ]
  },
  {
   "cell_type": "code",
   "execution_count": 64,
   "metadata": {},
   "outputs": [],
   "source": [
    "df_aug['date_time_utc'] = pd.to_datetime(df_aug['date_time_utc'], utc=True)\n",
    "df_aug['date'] = df_aug['date_time_utc'].dt.date"
   ]
  },
  {
   "cell_type": "code",
   "execution_count": 68,
   "metadata": {},
   "outputs": [],
   "source": [
    "df_aug_firstDay = df_aug[(df_aug['date'] == datetime(2019, 8, 1).date())]\n",
    "df_aug_lastDay = df_aug[(df_aug['date'] == datetime(2019, 8, 31).date())]"
   ]
  },
  {
   "cell_type": "code",
   "execution_count": 69,
   "metadata": {},
   "outputs": [
    {
     "data": {
      "text/plain": [
       "(701225, 27)"
      ]
     },
     "execution_count": 69,
     "metadata": {},
     "output_type": "execute_result"
    }
   ],
   "source": [
    "df_aug_firstDay.shape"
   ]
  },
  {
   "cell_type": "code",
   "execution_count": 70,
   "metadata": {},
   "outputs": [
    {
     "data": {
      "text/plain": [
       "(658856, 27)"
      ]
     },
     "execution_count": 70,
     "metadata": {},
     "output_type": "execute_result"
    }
   ],
   "source": [
    "df_aug_lastDay.shape"
   ]
  },
  {
   "cell_type": "code",
   "execution_count": 50,
   "metadata": {},
   "outputs": [],
   "source": [
    "########################\n",
    "# SEP CONDITIONING\n",
    "########################"
   ]
  },
  {
   "cell_type": "code",
   "execution_count": 71,
   "metadata": {},
   "outputs": [],
   "source": [
    "df_sep['date_time_utc'] = pd.to_datetime(df_sep['date_time_utc'], utc=True)\n",
    "df_sep['date'] = df_sep['date_time_utc'].dt.date"
   ]
  },
  {
   "cell_type": "code",
   "execution_count": 72,
   "metadata": {},
   "outputs": [],
   "source": [
    "df_sep_firstDay = df_sep[(df_sep['date'] == datetime(2019, 9, 1).date())]\n",
    "df_sep_lastDay = df_sep[(df_sep['date'] == datetime(2019, 9, 30).date())]"
   ]
  },
  {
   "cell_type": "code",
   "execution_count": 73,
   "metadata": {},
   "outputs": [
    {
     "data": {
      "text/plain": [
       "(660229, 27)"
      ]
     },
     "execution_count": 73,
     "metadata": {},
     "output_type": "execute_result"
    }
   ],
   "source": [
    "df_sep_firstDay.shape"
   ]
  },
  {
   "cell_type": "code",
   "execution_count": 74,
   "metadata": {},
   "outputs": [
    {
     "data": {
      "text/plain": [
       "(621944, 27)"
      ]
     },
     "execution_count": 74,
     "metadata": {},
     "output_type": "execute_result"
    }
   ],
   "source": [
    "df_sep_lastDay.shape"
   ]
  },
  {
   "cell_type": "code",
   "execution_count": 55,
   "metadata": {},
   "outputs": [],
   "source": [
    "########################\n",
    "# OCT CONDITIONING\n",
    "########################"
   ]
  },
  {
   "cell_type": "code",
   "execution_count": 75,
   "metadata": {},
   "outputs": [],
   "source": [
    "df_oct['date_time_utc'] = pd.to_datetime(df_oct['date_time_utc'], utc=True)\n",
    "df_oct['date'] = df_oct['date_time_utc'].dt.date"
   ]
  },
  {
   "cell_type": "code",
   "execution_count": 76,
   "metadata": {},
   "outputs": [],
   "source": [
    "df_oct_firstDay = df_oct[(df_oct['date'] == datetime(2019, 10, 1).date())]\n",
    "df_oct_lastDay = df_oct[(df_oct['date'] == datetime(2019, 10, 31).date())]"
   ]
  },
  {
   "cell_type": "code",
   "execution_count": 77,
   "metadata": {},
   "outputs": [
    {
     "data": {
      "text/plain": [
       "(635152, 27)"
      ]
     },
     "execution_count": 77,
     "metadata": {},
     "output_type": "execute_result"
    }
   ],
   "source": [
    "df_oct_firstDay.shape"
   ]
  },
  {
   "cell_type": "code",
   "execution_count": 78,
   "metadata": {},
   "outputs": [
    {
     "data": {
      "text/plain": [
       "(631357, 27)"
      ]
     },
     "execution_count": 78,
     "metadata": {},
     "output_type": "execute_result"
    }
   ],
   "source": [
    "df_oct_lastDay.shape"
   ]
  },
  {
   "cell_type": "code",
   "execution_count": 60,
   "metadata": {},
   "outputs": [],
   "source": [
    "####################\n",
    "# NOV CONDITIONING\n",
    "####################"
   ]
  },
  {
   "cell_type": "code",
   "execution_count": 79,
   "metadata": {},
   "outputs": [],
   "source": [
    "df_nov['date_time_utc'] = pd.to_datetime(df_nov['date_time_utc'], utc=True)\n",
    "df_nov['date'] = df_nov['date_time_utc'].dt.date"
   ]
  },
  {
   "cell_type": "code",
   "execution_count": 80,
   "metadata": {},
   "outputs": [],
   "source": [
    "df_nov_firstDay = df_nov[(df_nov['date'] == datetime(2019, 11, 1).date())]\n",
    "df_nov_lastDay = df_nov[(df_nov['date'] == datetime(2019, 11, 30).date())]"
   ]
  },
  {
   "cell_type": "code",
   "execution_count": 81,
   "metadata": {},
   "outputs": [
    {
     "data": {
      "text/plain": [
       "(631193, 27)"
      ]
     },
     "execution_count": 81,
     "metadata": {},
     "output_type": "execute_result"
    }
   ],
   "source": [
    "df_nov_firstDay.shape"
   ]
  },
  {
   "cell_type": "code",
   "execution_count": 82,
   "metadata": {},
   "outputs": [
    {
     "data": {
      "text/plain": [
       "(604521, 27)"
      ]
     },
     "execution_count": 82,
     "metadata": {},
     "output_type": "execute_result"
    }
   ],
   "source": [
    "df_nov_lastDay.shape"
   ]
  },
  {
   "cell_type": "code",
   "execution_count": 65,
   "metadata": {},
   "outputs": [],
   "source": [
    "######################\n",
    "# DEC CONDITIONING\n",
    "######################"
   ]
  },
  {
   "cell_type": "code",
   "execution_count": 83,
   "metadata": {},
   "outputs": [],
   "source": [
    "df_dec['date_time_utc'] = pd.to_datetime(df_dec['date_time_utc'], utc=True)\n",
    "df_dec['date'] = df_dec['date_time_utc'].dt.date"
   ]
  },
  {
   "cell_type": "code",
   "execution_count": 84,
   "metadata": {},
   "outputs": [],
   "source": [
    "df_dec_firstDay = df_dec[(df_dec['date'] == datetime(2019, 12, 1).date())]\n",
    "df_dec_lastDay = df_dec[(df_dec['date'] == datetime(2019, 12, 21).date())]"
   ]
  },
  {
   "cell_type": "code",
   "execution_count": 85,
   "metadata": {},
   "outputs": [
    {
     "data": {
      "text/plain": [
       "(610857, 27)"
      ]
     },
     "execution_count": 85,
     "metadata": {},
     "output_type": "execute_result"
    }
   ],
   "source": [
    "df_dec_firstDay.shape"
   ]
  },
  {
   "cell_type": "code",
   "execution_count": 86,
   "metadata": {},
   "outputs": [
    {
     "data": {
      "text/plain": [
       "(598673, 27)"
      ]
     },
     "execution_count": 86,
     "metadata": {},
     "output_type": "execute_result"
    }
   ],
   "source": [
    "df_dec_lastDay.shape"
   ]
  }
 ],
 "metadata": {
  "kernelspec": {
   "display_name": "myenv",
   "language": "python",
   "name": "python3"
  },
  "language_info": {
   "codemirror_mode": {
    "name": "ipython",
    "version": 3
   },
   "file_extension": ".py",
   "mimetype": "text/x-python",
   "name": "python",
   "nbconvert_exporter": "python",
   "pygments_lexer": "ipython3",
   "version": "3.10.16"
  }
 },
 "nbformat": 4,
 "nbformat_minor": 2
}
