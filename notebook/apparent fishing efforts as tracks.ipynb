{
 "cells": [
  {
   "cell_type": "markdown",
   "id": "ee7bc22e-555e-4ad1-a493-0fc1ff7a0128",
   "metadata": {},
   "source": [
    "# Visualization of Apparent Fishing Effort as Tracks for a Single Day\n",
    "\n",
    "Data source: [link](https://globalfishingwatch.org/data-download/datasets/public-fishing-effort)"
   ]
  },
  {
   "cell_type": "code",
   "execution_count": 1,
   "id": "4424c5e8-265f-470d-bb2f-063bb5535ed5",
   "metadata": {},
   "outputs": [],
   "source": [
    "import cartopy\n",
    "\n",
    "import pandas as pd\n",
    "import matplotlib.pyplot as plt\n",
    "\n",
    "from conversion import points_to_smooth_lines"
   ]
  },
  {
   "cell_type": "code",
   "execution_count": 2,
   "id": "8177daf7-8b22-4cab-8b2c-12a0e4a82778",
   "metadata": {},
   "outputs": [],
   "source": [
    "df = pd.read_csv('mmsi-daily-csvs-10-v3-2015/mmsi-daily-csvs-10-v3-2015-02-03.csv')\n",
    "df = df[df.cell_ll_lat > 60]"
   ]
  },
  {
   "cell_type": "code",
   "execution_count": 3,
   "id": "c9de51d5-2df5-4103-9305-27a6cb43ab25",
   "metadata": {},
   "outputs": [],
   "source": [
    "tracks = points_to_smooth_lines(df)"
   ]
  },
  {
   "cell_type": "code",
   "execution_count": 4,
   "id": "03fb59e8-a139-4cb2-8a41-30d489a61de9",
   "metadata": {},
   "outputs": [
    {
     "data": {
      "text/html": [
       "<div>\n",
       "<style scoped>\n",
       "    .dataframe tbody tr th:only-of-type {\n",
       "        vertical-align: middle;\n",
       "    }\n",
       "\n",
       "    .dataframe tbody tr th {\n",
       "        vertical-align: top;\n",
       "    }\n",
       "\n",
       "    .dataframe thead th {\n",
       "        text-align: right;\n",
       "    }\n",
       "</style>\n",
       "<table border=\"1\" class=\"dataframe\">\n",
       "  <thead>\n",
       "    <tr style=\"text-align: right;\">\n",
       "      <th></th>\n",
       "      <th>start_date</th>\n",
       "      <th>end_date</th>\n",
       "      <th>hours</th>\n",
       "      <th>fishing_hours</th>\n",
       "      <th>n_pixels</th>\n",
       "      <th>geometry</th>\n",
       "    </tr>\n",
       "    <tr>\n",
       "      <th>mmsi</th>\n",
       "      <th></th>\n",
       "      <th></th>\n",
       "      <th></th>\n",
       "      <th></th>\n",
       "      <th></th>\n",
       "      <th></th>\n",
       "    </tr>\n",
       "  </thead>\n",
       "  <tbody>\n",
       "    <tr>\n",
       "      <th>57173720</th>\n",
       "      <td>2015-02-03</td>\n",
       "      <td>2015-02-03</td>\n",
       "      <td>20.2135</td>\n",
       "      <td>0.0000</td>\n",
       "      <td>2</td>\n",
       "      <td>LINESTRING (15 69, 15 68.9)</td>\n",
       "    </tr>\n",
       "    <tr>\n",
       "      <th>219138000</th>\n",
       "      <td>2015-02-03</td>\n",
       "      <td>2015-02-03</td>\n",
       "      <td>1.0340</td>\n",
       "      <td>0.0000</td>\n",
       "      <td>4</td>\n",
       "      <td>LINESTRING (0.5 60.1, 0.6 60.1, 0.6 60.2, 0.7 ...</td>\n",
       "    </tr>\n",
       "    <tr>\n",
       "      <th>219257000</th>\n",
       "      <td>2015-02-03</td>\n",
       "      <td>2015-02-03</td>\n",
       "      <td>23.3592</td>\n",
       "      <td>23.3592</td>\n",
       "      <td>5</td>\n",
       "      <td>LINESTRING (-30.8 65.8, -30.7 65.9, -30.8 65.9...</td>\n",
       "    </tr>\n",
       "    <tr>\n",
       "      <th>219765000</th>\n",
       "      <td>2015-02-03</td>\n",
       "      <td>2015-02-03</td>\n",
       "      <td>20.2832</td>\n",
       "      <td>1.5427</td>\n",
       "      <td>3</td>\n",
       "      <td>LINESTRING (2.9 60.6, 3.1 60.4, 3.2 60.2)</td>\n",
       "    </tr>\n",
       "    <tr>\n",
       "      <th>225436000</th>\n",
       "      <td>2015-02-03</td>\n",
       "      <td>2015-02-03</td>\n",
       "      <td>21.7747</td>\n",
       "      <td>21.7747</td>\n",
       "      <td>7</td>\n",
       "      <td>LINESTRING (39.8 75.5, 39.9 75.5, 40 75.5, 40....</td>\n",
       "    </tr>\n",
       "    <tr>\n",
       "      <th>...</th>\n",
       "      <td>...</td>\n",
       "      <td>...</td>\n",
       "      <td>...</td>\n",
       "      <td>...</td>\n",
       "      <td>...</td>\n",
       "      <td>...</td>\n",
       "    </tr>\n",
       "    <tr>\n",
       "      <th>331428000</th>\n",
       "      <td>2015-02-03</td>\n",
       "      <td>2015-02-03</td>\n",
       "      <td>21.8140</td>\n",
       "      <td>21.8140</td>\n",
       "      <td>8</td>\n",
       "      <td>LINESTRING (-55.7 64.2, -55.6 64.1, -55.6 64.2...</td>\n",
       "    </tr>\n",
       "    <tr>\n",
       "      <th>331478000</th>\n",
       "      <td>2015-02-03</td>\n",
       "      <td>2015-02-03</td>\n",
       "      <td>24.0017</td>\n",
       "      <td>24.0017</td>\n",
       "      <td>10</td>\n",
       "      <td>LINESTRING (-10.8 65.3, -10.8 65.4, -10.9 65.4...</td>\n",
       "    </tr>\n",
       "    <tr>\n",
       "      <th>331480000</th>\n",
       "      <td>2015-02-03</td>\n",
       "      <td>2015-02-03</td>\n",
       "      <td>23.3356</td>\n",
       "      <td>23.3356</td>\n",
       "      <td>4</td>\n",
       "      <td>LINESTRING (-37.1 64.4, -37.2 64.4, -37.3 64.4...</td>\n",
       "    </tr>\n",
       "    <tr>\n",
       "      <th>338494100</th>\n",
       "      <td>2015-02-03</td>\n",
       "      <td>2015-02-03</td>\n",
       "      <td>23.2799</td>\n",
       "      <td>17.9805</td>\n",
       "      <td>4</td>\n",
       "      <td>LINESTRING (-148 60.3, -148 60.2, -148 60.1, -...</td>\n",
       "    </tr>\n",
       "    <tr>\n",
       "      <th>367085290</th>\n",
       "      <td>2015-02-03</td>\n",
       "      <td>2015-02-03</td>\n",
       "      <td>19.2517</td>\n",
       "      <td>11.8731</td>\n",
       "      <td>4</td>\n",
       "      <td>LINESTRING (-148 60.3, -148 60.2, -148 60.1, -...</td>\n",
       "    </tr>\n",
       "  </tbody>\n",
       "</table>\n",
       "<p>876 rows × 6 columns</p>\n",
       "</div>"
      ],
      "text/plain": [
       "           start_date    end_date    hours  fishing_hours  n_pixels  \\\n",
       "mmsi                                                                  \n",
       "57173720   2015-02-03  2015-02-03  20.2135         0.0000         2   \n",
       "219138000  2015-02-03  2015-02-03   1.0340         0.0000         4   \n",
       "219257000  2015-02-03  2015-02-03  23.3592        23.3592         5   \n",
       "219765000  2015-02-03  2015-02-03  20.2832         1.5427         3   \n",
       "225436000  2015-02-03  2015-02-03  21.7747        21.7747         7   \n",
       "...               ...         ...      ...            ...       ...   \n",
       "331428000  2015-02-03  2015-02-03  21.8140        21.8140         8   \n",
       "331478000  2015-02-03  2015-02-03  24.0017        24.0017        10   \n",
       "331480000  2015-02-03  2015-02-03  23.3356        23.3356         4   \n",
       "338494100  2015-02-03  2015-02-03  23.2799        17.9805         4   \n",
       "367085290  2015-02-03  2015-02-03  19.2517        11.8731         4   \n",
       "\n",
       "                                                    geometry  \n",
       "mmsi                                                          \n",
       "57173720                         LINESTRING (15 69, 15 68.9)  \n",
       "219138000  LINESTRING (0.5 60.1, 0.6 60.1, 0.6 60.2, 0.7 ...  \n",
       "219257000  LINESTRING (-30.8 65.8, -30.7 65.9, -30.8 65.9...  \n",
       "219765000          LINESTRING (2.9 60.6, 3.1 60.4, 3.2 60.2)  \n",
       "225436000  LINESTRING (39.8 75.5, 39.9 75.5, 40 75.5, 40....  \n",
       "...                                                      ...  \n",
       "331428000  LINESTRING (-55.7 64.2, -55.6 64.1, -55.6 64.2...  \n",
       "331478000  LINESTRING (-10.8 65.3, -10.8 65.4, -10.9 65.4...  \n",
       "331480000  LINESTRING (-37.1 64.4, -37.2 64.4, -37.3 64.4...  \n",
       "338494100  LINESTRING (-148 60.3, -148 60.2, -148 60.1, -...  \n",
       "367085290  LINESTRING (-148 60.3, -148 60.2, -148 60.1, -...  \n",
       "\n",
       "[876 rows x 6 columns]"
      ]
     },
     "execution_count": 4,
     "metadata": {},
     "output_type": "execute_result"
    }
   ],
   "source": [
    "tracks"
   ]
  },
  {
   "cell_type": "code",
   "execution_count": 23,
   "id": "a6610f28-8ee1-4dba-85c0-1052e7d0943b",
   "metadata": {},
   "outputs": [
    {
     "data": {
      "text/plain": [
       "[218, 699, 714, 370, 93, 298, 727, 661, 159, 270]"
      ]
     },
     "execution_count": 23,
     "metadata": {},
     "output_type": "execute_result"
    }
   ],
   "source": [
    "tracks.n_pixels.argsort()[::-1][:10].tolist()"
   ]
  },
  {
   "cell_type": "code",
   "execution_count": 66,
   "id": "e046a1e9-d8e1-48aa-af4e-74bc3e44d316",
   "metadata": {},
   "outputs": [
    {
     "data": {
      "image/png": "[encoded data removed]",
      "text/plain": [
       "<Figure size 640x480 with 1 Axes>"
      ]
     },
     "metadata": {},
     "output_type": "display_data"
    }
   ],
   "source": [
    "index = 370\n",
    "\n",
    "fig, ax = plt.subplots(1, 1, subplot_kw={'projection': cartopy.crs.PlateCarree()})\n",
    "tracks.iloc[[index]].plot(ax=ax, linewidth=2, color='darkred')\n",
    "\n",
    "# Add features\n",
    "ax.add_feature(cartopy.feature.COASTLINE, edgecolor='grey')\n",
    "ax.add_feature(cartopy.feature.BORDERS, edgecolor='lightgrey')\n",
    "ax.add_feature(cartopy.feature.LAND);\n",
    "\n",
    "# Zoom out a bit; increase it to zoom out more\n",
    "zoom_out_level = 2\n",
    "xmin, ymin, xmax, ymax = tracks.iloc[[index]].total_bounds\n",
    "\n",
    "ax.set_ylim(\n",
    "    ymin - zoom_out_level * (ymax - ymin),\n",
    "    ymax + zoom_out_level * (ymax - ymin),\n",
    ")\n",
    "ax.set_xlim(\n",
    "    xmin - zoom_out_level * (xmax - xmin),\n",
    "    xmax + zoom_out_level * (xmax - xmin),\n",
    ");"
   ]
  }
 ],
 "metadata": {
  "kernelspec": {
   "display_name": "Python 3 (ipykernel)",
   "language": "python",
   "name": "python3"
  },
  "language_info": {
   "codemirror_mode": {
    "name": "ipython",
    "version": 3
   },
   "file_extension": ".py",
   "mimetype": "text/x-python",
   "name": "python",
   "nbconvert_exporter": "python",
   "pygments_lexer": "ipython3",
   "version": "3.13.5"
  }
 },
 "nbformat": 4,
 "nbformat_minor": 5
}
